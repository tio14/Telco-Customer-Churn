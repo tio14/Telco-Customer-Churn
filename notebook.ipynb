{
 "cells": [
  {
   "cell_type": "markdown",
   "metadata": {},
   "source": [
    "<h1 style=\"text-align: center; background-color: #2E86C1;\"> Predicting and Preventing <b>Customer Churn</b> in the Telecommunications Industry</h1>"
   ]
  },
  {
   "cell_type": "markdown",
   "metadata": {},
   "source": [
    "# Business Understanding"
   ]
  },
  {
   "cell_type": "markdown",
   "metadata": {},
   "source": [
    "**1. Context**\n",
    "\n",
    "The telecommunications (telco) industry has developed rapidly in the 20th century. There are so many companies have been working in this business sector. Therefore the competition is always going to be there. Because of this high competition, telco companies have always improved and evaluated their service quality to succeed and not be taken over by competitors.\n",
    "\n",
    "Customers are the most important asset for a company. It is the main focus of the business. A company usually puts in a big effort to get customers in the initial phase of building the company. Only After they gain the customer's trust, their business can continue to live on. But the work continues beyond there. They have to keep their existing customers to continue using their service and it is a challenging task.\n",
    "\n",
    "Customer churn is a customers stop using a service, either they don't need the service anymore or they change to another service provider. Acquiring a new customer is far more expensive than retaining the existing ones. Even an [article](https://mailchimp.com/resources/customer-churn/) says that *\"Acquiring a new customer can cost a business 5x more than retaining an existing one\"*. Therefore, customer churn is a critical factor for sustaining long-term profitability."
   ]
  },
  {
   "cell_type": "markdown",
   "metadata": {},
   "source": [
    "**2. Problem Statement**\n",
    "\n",
    "In order to keep their customers, telco company usually have plenty of prevention strategies such as personalized offers, customer engagement, feedback mechanism, and much more. A company usually allocate a budget to do these campaign. It is crucial to manage this budget, so it gets into the right hands. \n",
    "\n",
    "In this modern era, data has become an essential part of the business. Data can provide a lot of benefit to the company. It can help a company to understand their customers and condition around them. Also it can help company to spot a potential customer churn. By targeting the right customers, the company can maximize their budget by allocating it to the customers that potential to churn.\n",
    "\n",
    "In this project we will use historical data of certain telco company consisting of almost 5000 rows and 11 columns with column that state if the customer is churning or not. This project aim to identify current customers who's likely to churn by loking at historical data. **A predictive solution leveraging data analytics and machine learning** can help us to identify these at-risk customers and optimize promotional strategies."
   ]
  },
  {
   "cell_type": "markdown",
   "metadata": {},
   "source": [
    "**3. Goal**\n",
    "\n",
    "The purpose of this project are to:\n",
    "- Analyze factors that influence a customer to churn\n",
    "- Make a machine learning model to predict whether a customer will churn or not\n",
    "- Deploy the corresponding model to cloud"
   ]
  },
  {
   "cell_type": "markdown",
   "metadata": {},
   "source": [
    "**4. Analytical Approach**\n",
    "\n",
    "We will take a look at the data by doing some exploratory data analysis (EDA) in hope to uncover the truth that still yet to be uncovered. By looking at several information provided from the data that might potentially have a correlation with churning customers. In the end, we will make several action recommendation based on insight being spotted while doing the data analysis process."
   ]
  },
  {
   "cell_type": "markdown",
   "metadata": {},
   "source": [
    "**5. Metric Evaluation**\n",
    "\n",
    "Here we define the positive class as a churn customers with this detail.\n",
    "- False Positive (FP): Predict a customer will churn, while it is not\n",
    "- False Negative (FN): Predict a customer will not churn, while it is churn\n",
    "\n",
    "Giving false prediction will result in these costs.\n",
    "- FP cost: Waste of promotional budget\n",
    "- FN cost: Lost of customers\n",
    "\n",
    "This projects aims to spot as many potential churn as possible. We knew that acquiring a new customer is far more expensive than retaining the existing ones. Recall will be the metric that suit our interest. But, because we want to maximize the budget that are going to be spend to offer promotions to customers. We are going to take a little bit of concern to the model precision. \n",
    "\n",
    "To have a good measure of this, we will use the **F2-score** that give specific weight (2:1) to recall and precision. To better understand this metric, take a look at the equation below (Betha=2)"
   ]
  },
  {
   "cell_type": "markdown",
   "metadata": {},
   "source": [
    "<div>\n",
    "<img src=\"assets\\fb-score.png\" width=\"500\"/>\n",
    "</div>"
   ]
  },
  {
   "cell_type": "markdown",
   "metadata": {},
   "source": [
    "# Data Preparation"
   ]
  },
  {
   "cell_type": "code",
   "execution_count": 25,
   "metadata": {},
   "outputs": [],
   "source": [
    "# Importing the libraries\n",
    "\n",
    "import numpy as np\n",
    "import pandas as pd\n",
    "\n",
    "import matplotlib.pyplot as plt\n",
    "import seaborn as sns\n",
    "\n",
    "from sklearn.model_selection import train_test_split, GridSearchCV, RandomizedSearchCV, StratifiedKFold, cross_val_score\n",
    "from sklearn.compose import ColumnTransformer\n",
    "# from sklearn.pipeline import Pipeline\n",
    "from sklearn.preprocessing import OneHotEncoder, LabelEncoder, StandardScaler, RobustScaler, MinMaxScaler, PolynomialFeatures, FunctionTransformer\n",
    "from sklearn.feature_selection import VarianceThreshold, SelectKBest, f_classif, chi2, mutual_info_classif, RFE\n",
    "from imblearn.under_sampling import RandomUnderSampler\n",
    "from imblearn import under_sampling\n",
    "from imblearn.over_sampling import SMOTE, SMOTEN, SMOTENC, RandomOverSampler, ADASYN, BorderlineSMOTE, KMeansSMOTE, SVMSMOTE\n",
    "from imblearn.pipeline import Pipeline\n",
    "from sklearn.decomposition import PCA\n",
    "\n",
    "from sklearn.linear_model import LogisticRegression, SGDClassifier\n",
    "from sklearn.neighbors import KNeighborsClassifier\n",
    "from sklearn.tree import DecisionTreeClassifier\n",
    "from sklearn.svm import SVC, NuSVC, LinearSVC\n",
    "from sklearn.naive_bayes import GaussianNB, MultinomialNB, ComplementNB, BernoulliNB, CategoricalNB\n",
    "from sklearn.gaussian_process import GaussianProcessClassifier\n",
    "\n",
    "from sklearn.ensemble import GradientBoostingClassifier, HistGradientBoostingClassifier, AdaBoostClassifier\n",
    "from sklearn.ensemble import RandomForestClassifier, ExtraTreesClassifier\n",
    "from xgboost.sklearn import XGBClassifier\n",
    "from sklearn.neural_network import MLPClassifier\n",
    "from imblearn.ensemble import RUSBoostClassifier, EasyEnsembleClassifier, BalancedBaggingClassifier, BalancedRandomForestClassifier\n",
    "from sklearn.ensemble import VotingClassifier, StackingClassifier\n",
    "\n",
    "from sklearn.metrics import classification_report, confusion_matrix, fbeta_score, make_scorer, roc_curve\n",
    "\n",
    "import pickle\n",
    "import shap\n",
    "from lime import lime_tabular\n",
    "\n",
    "import warnings\n",
    "warnings.filterwarnings('ignore')\n",
    "pd.options.display.max_columns = None\n",
    "pd.options.display.max_colwidth = None"
   ]
  },
  {
   "cell_type": "code",
   "execution_count": 26,
   "metadata": {},
   "outputs": [
    {
     "data": {
      "text/html": [
       "<div>\n",
       "<style scoped>\n",
       "    .dataframe tbody tr th:only-of-type {\n",
       "        vertical-align: middle;\n",
       "    }\n",
       "\n",
       "    .dataframe tbody tr th {\n",
       "        vertical-align: top;\n",
       "    }\n",
       "\n",
       "    .dataframe thead th {\n",
       "        text-align: right;\n",
       "    }\n",
       "</style>\n",
       "<table border=\"1\" class=\"dataframe\">\n",
       "  <thead>\n",
       "    <tr style=\"text-align: right;\">\n",
       "      <th></th>\n",
       "      <th>Dependents</th>\n",
       "      <th>tenure</th>\n",
       "      <th>OnlineSecurity</th>\n",
       "      <th>OnlineBackup</th>\n",
       "      <th>InternetService</th>\n",
       "      <th>DeviceProtection</th>\n",
       "      <th>TechSupport</th>\n",
       "      <th>Contract</th>\n",
       "      <th>PaperlessBilling</th>\n",
       "      <th>MonthlyCharges</th>\n",
       "      <th>Churn</th>\n",
       "    </tr>\n",
       "  </thead>\n",
       "  <tbody>\n",
       "    <tr>\n",
       "      <th>0</th>\n",
       "      <td>Yes</td>\n",
       "      <td>9</td>\n",
       "      <td>No</td>\n",
       "      <td>No</td>\n",
       "      <td>DSL</td>\n",
       "      <td>Yes</td>\n",
       "      <td>Yes</td>\n",
       "      <td>Month-to-month</td>\n",
       "      <td>Yes</td>\n",
       "      <td>72.90</td>\n",
       "      <td>Yes</td>\n",
       "    </tr>\n",
       "    <tr>\n",
       "      <th>1</th>\n",
       "      <td>No</td>\n",
       "      <td>14</td>\n",
       "      <td>No</td>\n",
       "      <td>Yes</td>\n",
       "      <td>Fiber optic</td>\n",
       "      <td>Yes</td>\n",
       "      <td>No</td>\n",
       "      <td>Month-to-month</td>\n",
       "      <td>Yes</td>\n",
       "      <td>82.65</td>\n",
       "      <td>No</td>\n",
       "    </tr>\n",
       "    <tr>\n",
       "      <th>2</th>\n",
       "      <td>No</td>\n",
       "      <td>64</td>\n",
       "      <td>Yes</td>\n",
       "      <td>No</td>\n",
       "      <td>DSL</td>\n",
       "      <td>Yes</td>\n",
       "      <td>Yes</td>\n",
       "      <td>Two year</td>\n",
       "      <td>No</td>\n",
       "      <td>47.85</td>\n",
       "      <td>Yes</td>\n",
       "    </tr>\n",
       "    <tr>\n",
       "      <th>3</th>\n",
       "      <td>No</td>\n",
       "      <td>72</td>\n",
       "      <td>Yes</td>\n",
       "      <td>Yes</td>\n",
       "      <td>DSL</td>\n",
       "      <td>Yes</td>\n",
       "      <td>Yes</td>\n",
       "      <td>Two year</td>\n",
       "      <td>No</td>\n",
       "      <td>69.65</td>\n",
       "      <td>No</td>\n",
       "    </tr>\n",
       "    <tr>\n",
       "      <th>4</th>\n",
       "      <td>No</td>\n",
       "      <td>3</td>\n",
       "      <td>No internet service</td>\n",
       "      <td>No internet service</td>\n",
       "      <td>No</td>\n",
       "      <td>No internet service</td>\n",
       "      <td>No internet service</td>\n",
       "      <td>Month-to-month</td>\n",
       "      <td>Yes</td>\n",
       "      <td>23.60</td>\n",
       "      <td>No</td>\n",
       "    </tr>\n",
       "    <tr>\n",
       "      <th>...</th>\n",
       "      <td>...</td>\n",
       "      <td>...</td>\n",
       "      <td>...</td>\n",
       "      <td>...</td>\n",
       "      <td>...</td>\n",
       "      <td>...</td>\n",
       "      <td>...</td>\n",
       "      <td>...</td>\n",
       "      <td>...</td>\n",
       "      <td>...</td>\n",
       "      <td>...</td>\n",
       "    </tr>\n",
       "    <tr>\n",
       "      <th>4925</th>\n",
       "      <td>No</td>\n",
       "      <td>15</td>\n",
       "      <td>No</td>\n",
       "      <td>No</td>\n",
       "      <td>Fiber optic</td>\n",
       "      <td>Yes</td>\n",
       "      <td>Yes</td>\n",
       "      <td>Month-to-month</td>\n",
       "      <td>Yes</td>\n",
       "      <td>103.45</td>\n",
       "      <td>No</td>\n",
       "    </tr>\n",
       "    <tr>\n",
       "      <th>4926</th>\n",
       "      <td>Yes</td>\n",
       "      <td>10</td>\n",
       "      <td>No</td>\n",
       "      <td>No</td>\n",
       "      <td>Fiber optic</td>\n",
       "      <td>Yes</td>\n",
       "      <td>Yes</td>\n",
       "      <td>Month-to-month</td>\n",
       "      <td>Yes</td>\n",
       "      <td>91.10</td>\n",
       "      <td>No</td>\n",
       "    </tr>\n",
       "    <tr>\n",
       "      <th>4927</th>\n",
       "      <td>No</td>\n",
       "      <td>58</td>\n",
       "      <td>No internet service</td>\n",
       "      <td>No internet service</td>\n",
       "      <td>No</td>\n",
       "      <td>No internet service</td>\n",
       "      <td>No internet service</td>\n",
       "      <td>Two year</td>\n",
       "      <td>No</td>\n",
       "      <td>20.75</td>\n",
       "      <td>No</td>\n",
       "    </tr>\n",
       "    <tr>\n",
       "      <th>4928</th>\n",
       "      <td>No</td>\n",
       "      <td>1</td>\n",
       "      <td>No</td>\n",
       "      <td>No</td>\n",
       "      <td>Fiber optic</td>\n",
       "      <td>No</td>\n",
       "      <td>No</td>\n",
       "      <td>Month-to-month</td>\n",
       "      <td>Yes</td>\n",
       "      <td>69.75</td>\n",
       "      <td>Yes</td>\n",
       "    </tr>\n",
       "    <tr>\n",
       "      <th>4929</th>\n",
       "      <td>Yes</td>\n",
       "      <td>4</td>\n",
       "      <td>No internet service</td>\n",
       "      <td>No internet service</td>\n",
       "      <td>No</td>\n",
       "      <td>No internet service</td>\n",
       "      <td>No internet service</td>\n",
       "      <td>Month-to-month</td>\n",
       "      <td>No</td>\n",
       "      <td>20.40</td>\n",
       "      <td>No</td>\n",
       "    </tr>\n",
       "  </tbody>\n",
       "</table>\n",
       "<p>4930 rows × 11 columns</p>\n",
       "</div>"
      ],
      "text/plain": [
       "     Dependents  tenure       OnlineSecurity         OnlineBackup  \\\n",
       "0           Yes       9                   No                   No   \n",
       "1            No      14                   No                  Yes   \n",
       "2            No      64                  Yes                   No   \n",
       "3            No      72                  Yes                  Yes   \n",
       "4            No       3  No internet service  No internet service   \n",
       "...         ...     ...                  ...                  ...   \n",
       "4925         No      15                   No                   No   \n",
       "4926        Yes      10                   No                   No   \n",
       "4927         No      58  No internet service  No internet service   \n",
       "4928         No       1                   No                   No   \n",
       "4929        Yes       4  No internet service  No internet service   \n",
       "\n",
       "     InternetService     DeviceProtection          TechSupport  \\\n",
       "0                DSL                  Yes                  Yes   \n",
       "1        Fiber optic                  Yes                   No   \n",
       "2                DSL                  Yes                  Yes   \n",
       "3                DSL                  Yes                  Yes   \n",
       "4                 No  No internet service  No internet service   \n",
       "...              ...                  ...                  ...   \n",
       "4925     Fiber optic                  Yes                  Yes   \n",
       "4926     Fiber optic                  Yes                  Yes   \n",
       "4927              No  No internet service  No internet service   \n",
       "4928     Fiber optic                   No                   No   \n",
       "4929              No  No internet service  No internet service   \n",
       "\n",
       "            Contract PaperlessBilling  MonthlyCharges Churn  \n",
       "0     Month-to-month              Yes           72.90   Yes  \n",
       "1     Month-to-month              Yes           82.65    No  \n",
       "2           Two year               No           47.85   Yes  \n",
       "3           Two year               No           69.65    No  \n",
       "4     Month-to-month              Yes           23.60    No  \n",
       "...              ...              ...             ...   ...  \n",
       "4925  Month-to-month              Yes          103.45    No  \n",
       "4926  Month-to-month              Yes           91.10    No  \n",
       "4927        Two year               No           20.75    No  \n",
       "4928  Month-to-month              Yes           69.75   Yes  \n",
       "4929  Month-to-month               No           20.40    No  \n",
       "\n",
       "[4930 rows x 11 columns]"
      ]
     },
     "execution_count": 26,
     "metadata": {},
     "output_type": "execute_result"
    }
   ],
   "source": [
    "df = pd.read_csv('data/data_telco_customer_churn.csv')\n",
    "df"
   ]
  },
  {
   "cell_type": "markdown",
   "metadata": {},
   "source": [
    "There are 4930 rows with 11 columns within the data. Target variable will be the \"Churn\" column, so there are 10 features exists with 8 qualitative and 2 quantitative features."
   ]
  },
  {
   "cell_type": "markdown",
   "metadata": {},
   "source": [
    "# Data Cleaning"
   ]
  },
  {
   "cell_type": "markdown",
   "metadata": {},
   "source": [
    "We will do several data cleaning process to make a better use of the data."
   ]
  },
  {
   "cell_type": "markdown",
   "metadata": {},
   "source": [
    "**Duplication**"
   ]
  },
  {
   "cell_type": "code",
   "execution_count": 27,
   "metadata": {},
   "outputs": [
    {
     "name": "stdout",
     "output_type": "stream",
     "text": [
      "duplication: 77 (1.56%)\n"
     ]
    }
   ],
   "source": [
    "print(f'duplication: {df.duplicated().sum()} ({round(df.duplicated().sum()/len(df) * 100, 2)}%)')"
   ]
  },
  {
   "cell_type": "code",
   "execution_count": 28,
   "metadata": {},
   "outputs": [
    {
     "data": {
      "text/plain": [
       "Churn\n",
       "No     49\n",
       "Yes    28\n",
       "Name: count, dtype: int64"
      ]
     },
     "execution_count": 28,
     "metadata": {},
     "output_type": "execute_result"
    }
   ],
   "source": [
    "df[df.duplicated()]['Churn'].value_counts()"
   ]
  },
  {
   "cell_type": "code",
   "execution_count": 29,
   "metadata": {},
   "outputs": [],
   "source": [
    "df.drop_duplicates(inplace=True, ignore_index=True)"
   ]
  },
  {
   "cell_type": "markdown",
   "metadata": {},
   "source": [
    "There're 77 duplicated data or 1.56% from totals. These values are dropped to make the ML model perform better."
   ]
  },
  {
   "cell_type": "markdown",
   "metadata": {},
   "source": [
    "**Missing & negative values**"
   ]
  },
  {
   "cell_type": "code",
   "execution_count": 30,
   "metadata": {},
   "outputs": [
    {
     "data": {
      "text/html": [
       "<div>\n",
       "<style scoped>\n",
       "    .dataframe tbody tr th:only-of-type {\n",
       "        vertical-align: middle;\n",
       "    }\n",
       "\n",
       "    .dataframe tbody tr th {\n",
       "        vertical-align: top;\n",
       "    }\n",
       "\n",
       "    .dataframe thead th {\n",
       "        text-align: right;\n",
       "    }\n",
       "</style>\n",
       "<table border=\"1\" class=\"dataframe\">\n",
       "  <thead>\n",
       "    <tr style=\"text-align: right;\">\n",
       "      <th></th>\n",
       "      <th>feature</th>\n",
       "      <th>data_type</th>\n",
       "      <th>null</th>\n",
       "      <th>negative</th>\n",
       "      <th>n_unique</th>\n",
       "      <th>sample_unique</th>\n",
       "    </tr>\n",
       "  </thead>\n",
       "  <tbody>\n",
       "    <tr>\n",
       "      <th>0</th>\n",
       "      <td>Dependents</td>\n",
       "      <td>object</td>\n",
       "      <td>0.0</td>\n",
       "      <td>False</td>\n",
       "      <td>2</td>\n",
       "      <td>[Yes, No]</td>\n",
       "    </tr>\n",
       "    <tr>\n",
       "      <th>1</th>\n",
       "      <td>tenure</td>\n",
       "      <td>int64</td>\n",
       "      <td>0.0</td>\n",
       "      <td>False</td>\n",
       "      <td>73</td>\n",
       "      <td>[9, 14, 64]</td>\n",
       "    </tr>\n",
       "    <tr>\n",
       "      <th>2</th>\n",
       "      <td>OnlineSecurity</td>\n",
       "      <td>object</td>\n",
       "      <td>0.0</td>\n",
       "      <td>False</td>\n",
       "      <td>3</td>\n",
       "      <td>[No, Yes, No internet service]</td>\n",
       "    </tr>\n",
       "    <tr>\n",
       "      <th>3</th>\n",
       "      <td>OnlineBackup</td>\n",
       "      <td>object</td>\n",
       "      <td>0.0</td>\n",
       "      <td>False</td>\n",
       "      <td>3</td>\n",
       "      <td>[No, Yes, No internet service]</td>\n",
       "    </tr>\n",
       "    <tr>\n",
       "      <th>4</th>\n",
       "      <td>InternetService</td>\n",
       "      <td>object</td>\n",
       "      <td>0.0</td>\n",
       "      <td>False</td>\n",
       "      <td>3</td>\n",
       "      <td>[DSL, Fiber optic, No]</td>\n",
       "    </tr>\n",
       "    <tr>\n",
       "      <th>5</th>\n",
       "      <td>DeviceProtection</td>\n",
       "      <td>object</td>\n",
       "      <td>0.0</td>\n",
       "      <td>False</td>\n",
       "      <td>3</td>\n",
       "      <td>[Yes, No internet service, No]</td>\n",
       "    </tr>\n",
       "    <tr>\n",
       "      <th>6</th>\n",
       "      <td>TechSupport</td>\n",
       "      <td>object</td>\n",
       "      <td>0.0</td>\n",
       "      <td>False</td>\n",
       "      <td>3</td>\n",
       "      <td>[Yes, No, No internet service]</td>\n",
       "    </tr>\n",
       "    <tr>\n",
       "      <th>7</th>\n",
       "      <td>Contract</td>\n",
       "      <td>object</td>\n",
       "      <td>0.0</td>\n",
       "      <td>False</td>\n",
       "      <td>3</td>\n",
       "      <td>[Month-to-month, Two year, One year]</td>\n",
       "    </tr>\n",
       "    <tr>\n",
       "      <th>8</th>\n",
       "      <td>PaperlessBilling</td>\n",
       "      <td>object</td>\n",
       "      <td>0.0</td>\n",
       "      <td>False</td>\n",
       "      <td>2</td>\n",
       "      <td>[Yes, No]</td>\n",
       "    </tr>\n",
       "    <tr>\n",
       "      <th>9</th>\n",
       "      <td>MonthlyCharges</td>\n",
       "      <td>float64</td>\n",
       "      <td>0.0</td>\n",
       "      <td>False</td>\n",
       "      <td>1422</td>\n",
       "      <td>[72.9, 82.65, 47.85]</td>\n",
       "    </tr>\n",
       "    <tr>\n",
       "      <th>10</th>\n",
       "      <td>Churn</td>\n",
       "      <td>object</td>\n",
       "      <td>0.0</td>\n",
       "      <td>False</td>\n",
       "      <td>2</td>\n",
       "      <td>[Yes, No]</td>\n",
       "    </tr>\n",
       "  </tbody>\n",
       "</table>\n",
       "</div>"
      ],
      "text/plain": [
       "             feature data_type  null  negative  n_unique  \\\n",
       "0         Dependents    object   0.0     False         2   \n",
       "1             tenure     int64   0.0     False        73   \n",
       "2     OnlineSecurity    object   0.0     False         3   \n",
       "3       OnlineBackup    object   0.0     False         3   \n",
       "4    InternetService    object   0.0     False         3   \n",
       "5   DeviceProtection    object   0.0     False         3   \n",
       "6        TechSupport    object   0.0     False         3   \n",
       "7           Contract    object   0.0     False         3   \n",
       "8   PaperlessBilling    object   0.0     False         2   \n",
       "9     MonthlyCharges   float64   0.0     False      1422   \n",
       "10             Churn    object   0.0     False         2   \n",
       "\n",
       "                           sample_unique  \n",
       "0                              [Yes, No]  \n",
       "1                            [9, 14, 64]  \n",
       "2         [No, Yes, No internet service]  \n",
       "3         [No, Yes, No internet service]  \n",
       "4                 [DSL, Fiber optic, No]  \n",
       "5         [Yes, No internet service, No]  \n",
       "6         [Yes, No, No internet service]  \n",
       "7   [Month-to-month, Two year, One year]  \n",
       "8                              [Yes, No]  \n",
       "9                   [72.9, 82.65, 47.85]  \n",
       "10                             [Yes, No]  "
      ]
     },
     "execution_count": 30,
     "metadata": {},
     "output_type": "execute_result"
    }
   ],
   "source": [
    "def check_df(df):\n",
    "    df = pd.DataFrame({\n",
    "        'feature':df.columns.values,\n",
    "        'data_type':df.dtypes.values,\n",
    "        'null':df.isna().mean().values * 100,\n",
    "        'negative':[True if df[i].dtype == int and (df[i] < 0).any() else False for i in df.columns],\n",
    "        'n_unique':df.nunique().values,\n",
    "        'sample_unique':[df[i].unique()[:3] for i in df.columns]\n",
    "    })\n",
    "    return df\n",
    "check_df(df)"
   ]
  },
  {
   "cell_type": "markdown",
   "metadata": {},
   "source": [
    "There are no missing values and no negative values found from the data."
   ]
  },
  {
   "cell_type": "markdown",
   "metadata": {},
   "source": [
    "**Grouping columns based on it data types (Qualitative/Quantitative)**"
   ]
  },
  {
   "cell_type": "code",
   "execution_count": 31,
   "metadata": {},
   "outputs": [
    {
     "name": "stdout",
     "output_type": "stream",
     "text": [
      "Qualitative column (8): ['Dependents', 'OnlineSecurity', 'OnlineBackup', 'InternetService', 'DeviceProtection', 'TechSupport', 'Contract', 'PaperlessBilling']\n",
      "Quantitative column (2): ['tenure', 'MonthlyCharges']\n",
      "Target variable: Churn\n"
     ]
    }
   ],
   "source": [
    "# Group column names based on two category: qualitative & quantitative\n",
    "quali_columns = list(df.select_dtypes(include=['object']).columns)\n",
    "quanti_columns = list(df.select_dtypes(include=['int', 'float']).columns)\n",
    "target = 'Churn'\n",
    "quali_columns.remove(target) # Target variable\n",
    "print(f\"Qualitative column ({len(quali_columns)}): {quali_columns}\")\n",
    "print(f\"Quantitative column ({len(quanti_columns)}): {quanti_columns}\")\n",
    "print(f'Target variable: {target}')"
   ]
  },
  {
   "cell_type": "markdown",
   "metadata": {},
   "source": [
    "**Check qualitative features**"
   ]
  },
  {
   "cell_type": "code",
   "execution_count": 32,
   "metadata": {},
   "outputs": [
    {
     "data": {
      "image/png": "[encoded data removed]",
      "text/plain": [
       "<Figure size 1000x700 with 8 Axes>"
      ]
     },
     "metadata": {},
     "output_type": "display_data"
    }
   ],
   "source": [
    "fig, ax = plt.subplots(len(quali_columns), 1,figsize=(10,7))\n",
    "plt.subplots_adjust(hspace=0.5)\n",
    "for i, feature in enumerate(quali_columns):\n",
    "    top_5_values = list(df[feature].value_counts().head(5).index)\n",
    "    temp_df = df[df[feature].isin(top_5_values)]\n",
    "    plot = sns.countplot(data=temp_df, y=feature, ax=ax[i], order=temp_df[feature].value_counts().index)\n",
    "    ax[i].set_xlabel(None)\n",
    "    ax[i].set_xticks([])\n",
    "    ax[i].set_ylabel(None)\n",
    "    ax[i].set_title(feature, fontsize=10)\n",
    "    ax[i].set_xlim(0, 3500)\n",
    "    for p in plot.patches:\n",
    "        plot.annotate(format(p.get_width(), '.0f'),\n",
    "                      (p.get_width(),  p.get_y() + p.get_height() / 2.),\n",
    "                      ha='center',\n",
    "                      va='center',\n",
    "                      xytext=(20,0),\n",
    "                      textcoords='offset points')\n",
    "plt.tight_layout()\n",
    "plt.show()"
   ]
  },
  {
   "cell_type": "markdown",
   "metadata": {},
   "source": [
    "Insight:\n",
    "- Dependents: The number of customer who doesn't have dependent (3380) are twice larger than the one who have dependent (1473)\n",
    "- Internet Service: Customers who don't take internet service (1003) is automatically not takes online security, online backup, device protection, tech support (labelled as 'No internet service' in those columns). The others are customer using fiber optic (2154) and DSL/digital subscriber line (1696)\n",
    "- Online security, online backup, device protection, tech support: In general, the customers doesn't have these service rather than the ones who have. The ratio is about 4:3\n",
    "- Contract: Mostly they're month-to-month customers (2665). The others are two year (1143) and one year (1045) customers\n",
    "- Paperless billing: Around 3/5 customers using a paperless billings (2925)"
   ]
  },
  {
   "cell_type": "markdown",
   "metadata": {},
   "source": [
    "**Check quantitative features**"
   ]
  },
  {
   "cell_type": "code",
   "execution_count": 33,
   "metadata": {},
   "outputs": [
    {
     "data": {
      "image/png": "[encoded data removed]",
      "text/plain": [
       "<Figure size 1500x300 with 2 Axes>"
      ]
     },
     "metadata": {},
     "output_type": "display_data"
    }
   ],
   "source": [
    "def quantitative_dis_plot(features, df, segment_feature=None, showfliers=True):\n",
    "    fig, ax = plt.subplots(len(features), 1,figsize=(15,3))\n",
    "    for i, feature in enumerate(features):\n",
    "        if segment_feature:\n",
    "            sns.boxplot(y=segment_feature, x=feature, data=df, ax=ax[i], showfliers=showfliers, hue=segment_feature, palette=['red','grey'])\n",
    "            # ax[i].set_ylabel(None)\n",
    "        else:\n",
    "            sns.boxplot(x=feature, data=df, ax=ax[i], showfliers=showfliers)\n",
    "            ax[i].set_xlabel(feature, fontsize=15)\n",
    "    plt.tight_layout()\n",
    "    plt.show()\n",
    " \n",
    "quantitative_dis_plot(\n",
    "    features=quanti_columns,\n",
    "    df=df\n",
    ")"
   ]
  },
  {
   "cell_type": "markdown",
   "metadata": {},
   "source": [
    "There are no outliers in quantitative columns"
   ]
  },
  {
   "cell_type": "code",
   "execution_count": 34,
   "metadata": {},
   "outputs": [
    {
     "data": {
      "image/png": "[encoded data removed]",
      "text/plain": [
       "<Figure size 700x300 with 2 Axes>"
      ]
     },
     "metadata": {},
     "output_type": "display_data"
    }
   ],
   "source": [
    "fig, ax = plt.subplots(len(quanti_columns), 1,figsize=(7,3))\n",
    "plt.tight_layout()\n",
    "for i, feature in enumerate(quanti_columns):\n",
    "    sns.histplot(data=df, x=feature, ax=ax[i], bins=10)\n",
    "    ax[i].set_xlabel(None)\n",
    "    ax[i].set_ylabel(None)\n",
    "    ax[i].set_title(feature, fontsize=10)\n",
    "plt.show()"
   ]
  },
  {
   "cell_type": "markdown",
   "metadata": {},
   "source": [
    "Insight:\n",
    "- Tenure: Number of customers based on tenure are peaked in the low value (below 10) and high value (above 65) \n",
    "- Monthly charges: Number of customers based on monthly charges are peaked in low value (below 30)"
   ]
  },
  {
   "cell_type": "code",
   "execution_count": 35,
   "metadata": {},
   "outputs": [],
   "source": [
    "# Save cleaned data\n",
    "df.to_csv('data/telco_customer_churn_cleaned.csv', index=None)"
   ]
  },
  {
   "cell_type": "markdown",
   "metadata": {},
   "source": [
    "# Exploratory Data Analysis"
   ]
  },
  {
   "cell_type": "markdown",
   "metadata": {},
   "source": [
    "**Target variable proportion**"
   ]
  },
  {
   "cell_type": "code",
   "execution_count": 36,
   "metadata": {},
   "outputs": [
    {
     "data": {
      "image/png": "[encoded data removed]",
      "text/plain": [
       "<Figure size 640x480 with 1 Axes>"
      ]
     },
     "metadata": {},
     "output_type": "display_data"
    }
   ],
   "source": [
    "plot = sns.countplot(data=df, x=target, palette=['red','grey'])\n",
    "for p in plot.patches:\n",
    "    plot.annotate(\n",
    "        format(p.get_height(), '.0f'),\n",
    "        (p.get_x() + p.get_width() / 2,  p.get_height()),\n",
    "        ha='center',\n",
    "        va='center',\n",
    "        xytext=(0,5),\n",
    "        textcoords='offset points'\n",
    "    )\n",
    "plt.show()"
   ]
  },
  {
   "cell_type": "code",
   "execution_count": 37,
   "metadata": {},
   "outputs": [
    {
     "data": {
      "text/plain": [
       "Churn\n",
       "No     0.73\n",
       "Yes    0.27\n",
       "Name: proportion, dtype: float64"
      ]
     },
     "execution_count": 37,
     "metadata": {},
     "output_type": "execute_result"
    }
   ],
   "source": [
    "round(df[target].value_counts(normalize=True), 2)"
   ]
  },
  {
   "cell_type": "markdown",
   "metadata": {},
   "source": [
    "This dataset proportion is imbalance. Where positive class (churn) was the minority class with target class proportion of 3:1."
   ]
  },
  {
   "cell_type": "markdown",
   "metadata": {},
   "source": [
    "## Qualitative features"
   ]
  },
  {
   "cell_type": "code",
   "execution_count": 38,
   "metadata": {},
   "outputs": [
    {
     "data": {
      "image/png": "[encoded data removed]",
      "text/plain": [
       "<Figure size 1000x1000 with 8 Axes>"
      ]
     },
     "metadata": {},
     "output_type": "display_data"
    }
   ],
   "source": [
    "def qualitative_plot(features, df, segment_feature=None):\n",
    "    fig, ax = plt.subplots(len(features), 1,figsize=(10,10))\n",
    "    for i, feature in enumerate(features):\n",
    "        if segment_feature:\n",
    "            plot = sns.countplot(data=df, y=feature, hue=segment_feature, ax=ax[i], palette=['red','grey'])\n",
    "            ax[i].legend(prop={'size':8}, loc=1)\n",
    "            ax[i].set_xlabel(None)\n",
    "            ax[i].set_ylabel(None)\n",
    "            ax[i].set_title(feature)\n",
    "            ax[i].set_xlim(0, 2500)\n",
    "            ax[i].set_xticks([])\n",
    "\n",
    "            for p in plot.patches[:-2]:\n",
    "                plot.annotate(format(p.get_width(), '.0f'),\n",
    "                            (p.get_width(),  p.get_y() + p.get_height() / 2.),\n",
    "                            ha='center',\n",
    "                            va='center',\n",
    "                            xytext=(20,0),\n",
    "                            textcoords='offset points')\n",
    "\n",
    "        else:\n",
    "            sns.countplot(data=df, x=feature, ax=ax[i])\n",
    "    plt.tight_layout()\n",
    "    plt.show()\n",
    " \n",
    "qualitative_plot(\n",
    "    features=quali_columns,\n",
    "    df=df,\n",
    "    segment_feature=target\n",
    ")"
   ]
  },
  {
   "cell_type": "markdown",
   "metadata": {},
   "source": [
    "Insight:\n",
    "- Dependents: Customers who have dependents are most likely to churn (1/3 of them)\n",
    "- Internet service: Customers who uses fiber optic are most likely to churn (3/7 of them). Customers with no internet service are the same customers with value of 'No internet service' for several columns that already stated before. So, the distribution of churn are exactly the same.\n",
    "- Online security: Customers who doesn't have online security service are more likely to churn (2/5 of them)\n",
    "- Online backup: Customers who doesn't have online backup service are more likely to churn (3/7 of them)\n",
    "- Device protection: Customers who doesn't have device protection service are more likely to churn (2/5 of them)\n",
    "- Tech support: Customers who doesn't have tech support service are more likely to churn (2/5 of them)\n",
    "- Contract: Month-to-month customers are most likely to churn (2/5 of them)\n",
    "- Paperless billing: Customers who use paperless billing are most likely to churn (1/3 of them)\n",
    "\n",
    "Interesting facts:\n",
    "- Customers who doesn't take add-on services (online security, online backup, device protection, tech support) are most likely to churn. It is better to recommend these add-on to customer\n",
    "- Customers who takes month-to-month contract are most likely to churn. This is very different compared to customers with two/one year contract"
   ]
  },
  {
   "cell_type": "markdown",
   "metadata": {},
   "source": [
    "**Pivoting**"
   ]
  },
  {
   "cell_type": "markdown",
   "metadata": {},
   "source": [
    "Because we have a lot of qualitative features. We migh get a better ML performance by combining these qualitative features."
   ]
  },
  {
   "cell_type": "code",
   "execution_count": 39,
   "metadata": {},
   "outputs": [
    {
     "data": {
      "text/html": [
       "<div>\n",
       "<style scoped>\n",
       "    .dataframe tbody tr th:only-of-type {\n",
       "        vertical-align: middle;\n",
       "    }\n",
       "\n",
       "    .dataframe tbody tr th {\n",
       "        vertical-align: top;\n",
       "    }\n",
       "\n",
       "    .dataframe thead tr th {\n",
       "        text-align: left;\n",
       "    }\n",
       "\n",
       "    .dataframe thead tr:last-of-type th {\n",
       "        text-align: right;\n",
       "    }\n",
       "</style>\n",
       "<table border=\"1\" class=\"dataframe\">\n",
       "  <thead>\n",
       "    <tr>\n",
       "      <th>Dependents</th>\n",
       "      <th colspan=\"2\" halign=\"left\">No</th>\n",
       "      <th colspan=\"2\" halign=\"left\">Yes</th>\n",
       "    </tr>\n",
       "    <tr>\n",
       "      <th>Churn</th>\n",
       "      <th>No</th>\n",
       "      <th>Yes</th>\n",
       "      <th>No</th>\n",
       "      <th>Yes</th>\n",
       "    </tr>\n",
       "    <tr>\n",
       "      <th>OnlineBackup</th>\n",
       "      <th></th>\n",
       "      <th></th>\n",
       "      <th></th>\n",
       "      <th></th>\n",
       "    </tr>\n",
       "  </thead>\n",
       "  <tbody>\n",
       "    <tr>\n",
       "      <th>No</th>\n",
       "      <td>913</td>\n",
       "      <td>723</td>\n",
       "      <td>371</td>\n",
       "      <td>141</td>\n",
       "    </tr>\n",
       "    <tr>\n",
       "      <th>No internet service</th>\n",
       "      <td>525</td>\n",
       "      <td>58</td>\n",
       "      <td>403</td>\n",
       "      <td>17</td>\n",
       "    </tr>\n",
       "    <tr>\n",
       "      <th>Yes</th>\n",
       "      <td>878</td>\n",
       "      <td>283</td>\n",
       "      <td>475</td>\n",
       "      <td>66</td>\n",
       "    </tr>\n",
       "  </tbody>\n",
       "</table>\n",
       "</div>"
      ],
      "text/plain": [
       "Dependents            No       Yes     \n",
       "Churn                 No  Yes   No  Yes\n",
       "OnlineBackup                           \n",
       "No                   913  723  371  141\n",
       "No internet service  525   58  403   17\n",
       "Yes                  878  283  475   66"
      ]
     },
     "metadata": {},
     "output_type": "display_data"
    },
    {
     "data": {
      "text/html": [
       "<div>\n",
       "<style scoped>\n",
       "    .dataframe tbody tr th:only-of-type {\n",
       "        vertical-align: middle;\n",
       "    }\n",
       "\n",
       "    .dataframe tbody tr th {\n",
       "        vertical-align: top;\n",
       "    }\n",
       "\n",
       "    .dataframe thead tr th {\n",
       "        text-align: left;\n",
       "    }\n",
       "\n",
       "    .dataframe thead tr:last-of-type th {\n",
       "        text-align: right;\n",
       "    }\n",
       "</style>\n",
       "<table border=\"1\" class=\"dataframe\">\n",
       "  <thead>\n",
       "    <tr>\n",
       "      <th>OnlineSecurity</th>\n",
       "      <th colspan=\"2\" halign=\"left\">No</th>\n",
       "      <th colspan=\"2\" halign=\"left\">No internet service</th>\n",
       "      <th colspan=\"2\" halign=\"left\">Yes</th>\n",
       "    </tr>\n",
       "    <tr>\n",
       "      <th>Churn</th>\n",
       "      <th>No</th>\n",
       "      <th>Yes</th>\n",
       "      <th>No</th>\n",
       "      <th>Yes</th>\n",
       "      <th>No</th>\n",
       "      <th>Yes</th>\n",
       "    </tr>\n",
       "    <tr>\n",
       "      <th>OnlineBackup</th>\n",
       "      <th></th>\n",
       "      <th></th>\n",
       "      <th></th>\n",
       "      <th></th>\n",
       "      <th></th>\n",
       "      <th></th>\n",
       "    </tr>\n",
       "  </thead>\n",
       "  <tbody>\n",
       "    <tr>\n",
       "      <th>No</th>\n",
       "      <td>777.0</td>\n",
       "      <td>732.0</td>\n",
       "      <td>NaN</td>\n",
       "      <td>NaN</td>\n",
       "      <td>507.0</td>\n",
       "      <td>132.0</td>\n",
       "    </tr>\n",
       "    <tr>\n",
       "      <th>No internet service</th>\n",
       "      <td>NaN</td>\n",
       "      <td>NaN</td>\n",
       "      <td>928.0</td>\n",
       "      <td>75.0</td>\n",
       "      <td>NaN</td>\n",
       "      <td>NaN</td>\n",
       "    </tr>\n",
       "    <tr>\n",
       "      <th>Yes</th>\n",
       "      <td>642.0</td>\n",
       "      <td>269.0</td>\n",
       "      <td>NaN</td>\n",
       "      <td>NaN</td>\n",
       "      <td>711.0</td>\n",
       "      <td>80.0</td>\n",
       "    </tr>\n",
       "  </tbody>\n",
       "</table>\n",
       "</div>"
      ],
      "text/plain": [
       "OnlineSecurity          No        No internet service          Yes       \n",
       "Churn                   No    Yes                  No   Yes     No    Yes\n",
       "OnlineBackup                                                             \n",
       "No                   777.0  732.0                 NaN   NaN  507.0  132.0\n",
       "No internet service    NaN    NaN               928.0  75.0    NaN    NaN\n",
       "Yes                  642.0  269.0                 NaN   NaN  711.0   80.0"
      ]
     },
     "metadata": {},
     "output_type": "display_data"
    },
    {
     "data": {
      "text/html": [
       "<div>\n",
       "<style scoped>\n",
       "    .dataframe tbody tr th:only-of-type {\n",
       "        vertical-align: middle;\n",
       "    }\n",
       "\n",
       "    .dataframe tbody tr th {\n",
       "        vertical-align: top;\n",
       "    }\n",
       "\n",
       "    .dataframe thead tr th {\n",
       "        text-align: left;\n",
       "    }\n",
       "\n",
       "    .dataframe thead tr:last-of-type th {\n",
       "        text-align: right;\n",
       "    }\n",
       "</style>\n",
       "<table border=\"1\" class=\"dataframe\">\n",
       "  <thead>\n",
       "    <tr>\n",
       "      <th>OnlineBackup</th>\n",
       "      <th colspan=\"2\" halign=\"left\">No</th>\n",
       "      <th colspan=\"2\" halign=\"left\">No internet service</th>\n",
       "      <th colspan=\"2\" halign=\"left\">Yes</th>\n",
       "    </tr>\n",
       "    <tr>\n",
       "      <th>Churn</th>\n",
       "      <th>No</th>\n",
       "      <th>Yes</th>\n",
       "      <th>No</th>\n",
       "      <th>Yes</th>\n",
       "      <th>No</th>\n",
       "      <th>Yes</th>\n",
       "    </tr>\n",
       "    <tr>\n",
       "      <th>OnlineBackup</th>\n",
       "      <th></th>\n",
       "      <th></th>\n",
       "      <th></th>\n",
       "      <th></th>\n",
       "      <th></th>\n",
       "      <th></th>\n",
       "    </tr>\n",
       "  </thead>\n",
       "  <tbody>\n",
       "    <tr>\n",
       "      <th>No</th>\n",
       "      <td>1284.0</td>\n",
       "      <td>864.0</td>\n",
       "      <td>NaN</td>\n",
       "      <td>NaN</td>\n",
       "      <td>NaN</td>\n",
       "      <td>NaN</td>\n",
       "    </tr>\n",
       "    <tr>\n",
       "      <th>No internet service</th>\n",
       "      <td>NaN</td>\n",
       "      <td>NaN</td>\n",
       "      <td>928.0</td>\n",
       "      <td>75.0</td>\n",
       "      <td>NaN</td>\n",
       "      <td>NaN</td>\n",
       "    </tr>\n",
       "    <tr>\n",
       "      <th>Yes</th>\n",
       "      <td>NaN</td>\n",
       "      <td>NaN</td>\n",
       "      <td>NaN</td>\n",
       "      <td>NaN</td>\n",
       "      <td>1353.0</td>\n",
       "      <td>349.0</td>\n",
       "    </tr>\n",
       "  </tbody>\n",
       "</table>\n",
       "</div>"
      ],
      "text/plain": [
       "OnlineBackup             No        No internet service           Yes       \n",
       "Churn                    No    Yes                  No   Yes      No    Yes\n",
       "OnlineBackup                                                               \n",
       "No                   1284.0  864.0                 NaN   NaN     NaN    NaN\n",
       "No internet service     NaN    NaN               928.0  75.0     NaN    NaN\n",
       "Yes                     NaN    NaN                 NaN   NaN  1353.0  349.0"
      ]
     },
     "metadata": {},
     "output_type": "display_data"
    },
    {
     "data": {
      "text/html": [
       "<div>\n",
       "<style scoped>\n",
       "    .dataframe tbody tr th:only-of-type {\n",
       "        vertical-align: middle;\n",
       "    }\n",
       "\n",
       "    .dataframe tbody tr th {\n",
       "        vertical-align: top;\n",
       "    }\n",
       "\n",
       "    .dataframe thead tr th {\n",
       "        text-align: left;\n",
       "    }\n",
       "\n",
       "    .dataframe thead tr:last-of-type th {\n",
       "        text-align: right;\n",
       "    }\n",
       "</style>\n",
       "<table border=\"1\" class=\"dataframe\">\n",
       "  <thead>\n",
       "    <tr>\n",
       "      <th>InternetService</th>\n",
       "      <th colspan=\"2\" halign=\"left\">DSL</th>\n",
       "      <th colspan=\"2\" halign=\"left\">Fiber optic</th>\n",
       "      <th colspan=\"2\" halign=\"left\">No</th>\n",
       "    </tr>\n",
       "    <tr>\n",
       "      <th>Churn</th>\n",
       "      <th>No</th>\n",
       "      <th>Yes</th>\n",
       "      <th>No</th>\n",
       "      <th>Yes</th>\n",
       "      <th>No</th>\n",
       "      <th>Yes</th>\n",
       "    </tr>\n",
       "    <tr>\n",
       "      <th>OnlineBackup</th>\n",
       "      <th></th>\n",
       "      <th></th>\n",
       "      <th></th>\n",
       "      <th></th>\n",
       "      <th></th>\n",
       "      <th></th>\n",
       "    </tr>\n",
       "  </thead>\n",
       "  <tbody>\n",
       "    <tr>\n",
       "      <th>No</th>\n",
       "      <td>689.0</td>\n",
       "      <td>233.0</td>\n",
       "      <td>595.0</td>\n",
       "      <td>631.0</td>\n",
       "      <td>NaN</td>\n",
       "      <td>NaN</td>\n",
       "    </tr>\n",
       "    <tr>\n",
       "      <th>No internet service</th>\n",
       "      <td>NaN</td>\n",
       "      <td>NaN</td>\n",
       "      <td>NaN</td>\n",
       "      <td>NaN</td>\n",
       "      <td>928.0</td>\n",
       "      <td>75.0</td>\n",
       "    </tr>\n",
       "    <tr>\n",
       "      <th>Yes</th>\n",
       "      <td>696.0</td>\n",
       "      <td>78.0</td>\n",
       "      <td>657.0</td>\n",
       "      <td>271.0</td>\n",
       "      <td>NaN</td>\n",
       "      <td>NaN</td>\n",
       "    </tr>\n",
       "  </tbody>\n",
       "</table>\n",
       "</div>"
      ],
      "text/plain": [
       "InternetService        DSL        Fiber optic            No      \n",
       "Churn                   No    Yes          No    Yes     No   Yes\n",
       "OnlineBackup                                                     \n",
       "No                   689.0  233.0       595.0  631.0    NaN   NaN\n",
       "No internet service    NaN    NaN         NaN    NaN  928.0  75.0\n",
       "Yes                  696.0   78.0       657.0  271.0    NaN   NaN"
      ]
     },
     "metadata": {},
     "output_type": "display_data"
    },
    {
     "data": {
      "text/html": [
       "<div>\n",
       "<style scoped>\n",
       "    .dataframe tbody tr th:only-of-type {\n",
       "        vertical-align: middle;\n",
       "    }\n",
       "\n",
       "    .dataframe tbody tr th {\n",
       "        vertical-align: top;\n",
       "    }\n",
       "\n",
       "    .dataframe thead tr th {\n",
       "        text-align: left;\n",
       "    }\n",
       "\n",
       "    .dataframe thead tr:last-of-type th {\n",
       "        text-align: right;\n",
       "    }\n",
       "</style>\n",
       "<table border=\"1\" class=\"dataframe\">\n",
       "  <thead>\n",
       "    <tr>\n",
       "      <th>DeviceProtection</th>\n",
       "      <th colspan=\"2\" halign=\"left\">No</th>\n",
       "      <th colspan=\"2\" halign=\"left\">No internet service</th>\n",
       "      <th colspan=\"2\" halign=\"left\">Yes</th>\n",
       "    </tr>\n",
       "    <tr>\n",
       "      <th>Churn</th>\n",
       "      <th>No</th>\n",
       "      <th>Yes</th>\n",
       "      <th>No</th>\n",
       "      <th>Yes</th>\n",
       "      <th>No</th>\n",
       "      <th>Yes</th>\n",
       "    </tr>\n",
       "    <tr>\n",
       "      <th>OnlineBackup</th>\n",
       "      <th></th>\n",
       "      <th></th>\n",
       "      <th></th>\n",
       "      <th></th>\n",
       "      <th></th>\n",
       "      <th></th>\n",
       "    </tr>\n",
       "  </thead>\n",
       "  <tbody>\n",
       "    <tr>\n",
       "      <th>No</th>\n",
       "      <td>758.0</td>\n",
       "      <td>632.0</td>\n",
       "      <td>NaN</td>\n",
       "      <td>NaN</td>\n",
       "      <td>526.0</td>\n",
       "      <td>232.0</td>\n",
       "    </tr>\n",
       "    <tr>\n",
       "      <th>No internet service</th>\n",
       "      <td>NaN</td>\n",
       "      <td>NaN</td>\n",
       "      <td>928.0</td>\n",
       "      <td>75.0</td>\n",
       "      <td>NaN</td>\n",
       "      <td>NaN</td>\n",
       "    </tr>\n",
       "    <tr>\n",
       "      <th>Yes</th>\n",
       "      <td>574.0</td>\n",
       "      <td>198.0</td>\n",
       "      <td>NaN</td>\n",
       "      <td>NaN</td>\n",
       "      <td>779.0</td>\n",
       "      <td>151.0</td>\n",
       "    </tr>\n",
       "  </tbody>\n",
       "</table>\n",
       "</div>"
      ],
      "text/plain": [
       "DeviceProtection        No        No internet service          Yes       \n",
       "Churn                   No    Yes                  No   Yes     No    Yes\n",
       "OnlineBackup                                                             \n",
       "No                   758.0  632.0                 NaN   NaN  526.0  232.0\n",
       "No internet service    NaN    NaN               928.0  75.0    NaN    NaN\n",
       "Yes                  574.0  198.0                 NaN   NaN  779.0  151.0"
      ]
     },
     "metadata": {},
     "output_type": "display_data"
    },
    {
     "data": {
      "text/html": [
       "<div>\n",
       "<style scoped>\n",
       "    .dataframe tbody tr th:only-of-type {\n",
       "        vertical-align: middle;\n",
       "    }\n",
       "\n",
       "    .dataframe tbody tr th {\n",
       "        vertical-align: top;\n",
       "    }\n",
       "\n",
       "    .dataframe thead tr th {\n",
       "        text-align: left;\n",
       "    }\n",
       "\n",
       "    .dataframe thead tr:last-of-type th {\n",
       "        text-align: right;\n",
       "    }\n",
       "</style>\n",
       "<table border=\"1\" class=\"dataframe\">\n",
       "  <thead>\n",
       "    <tr>\n",
       "      <th>TechSupport</th>\n",
       "      <th colspan=\"2\" halign=\"left\">No</th>\n",
       "      <th colspan=\"2\" halign=\"left\">No internet service</th>\n",
       "      <th colspan=\"2\" halign=\"left\">Yes</th>\n",
       "    </tr>\n",
       "    <tr>\n",
       "      <th>Churn</th>\n",
       "      <th>No</th>\n",
       "      <th>Yes</th>\n",
       "      <th>No</th>\n",
       "      <th>Yes</th>\n",
       "      <th>No</th>\n",
       "      <th>Yes</th>\n",
       "    </tr>\n",
       "    <tr>\n",
       "      <th>OnlineBackup</th>\n",
       "      <th></th>\n",
       "      <th></th>\n",
       "      <th></th>\n",
       "      <th></th>\n",
       "      <th></th>\n",
       "      <th></th>\n",
       "    </tr>\n",
       "  </thead>\n",
       "  <tbody>\n",
       "    <tr>\n",
       "      <th>No</th>\n",
       "      <td>804.0</td>\n",
       "      <td>732.0</td>\n",
       "      <td>NaN</td>\n",
       "      <td>NaN</td>\n",
       "      <td>480.0</td>\n",
       "      <td>132.0</td>\n",
       "    </tr>\n",
       "    <tr>\n",
       "      <th>No internet service</th>\n",
       "      <td>NaN</td>\n",
       "      <td>NaN</td>\n",
       "      <td>928.0</td>\n",
       "      <td>75.0</td>\n",
       "      <td>NaN</td>\n",
       "      <td>NaN</td>\n",
       "    </tr>\n",
       "    <tr>\n",
       "      <th>Yes</th>\n",
       "      <td>639.0</td>\n",
       "      <td>267.0</td>\n",
       "      <td>NaN</td>\n",
       "      <td>NaN</td>\n",
       "      <td>714.0</td>\n",
       "      <td>82.0</td>\n",
       "    </tr>\n",
       "  </tbody>\n",
       "</table>\n",
       "</div>"
      ],
      "text/plain": [
       "TechSupport             No        No internet service          Yes       \n",
       "Churn                   No    Yes                  No   Yes     No    Yes\n",
       "OnlineBackup                                                             \n",
       "No                   804.0  732.0                 NaN   NaN  480.0  132.0\n",
       "No internet service    NaN    NaN               928.0  75.0    NaN    NaN\n",
       "Yes                  639.0  267.0                 NaN   NaN  714.0   82.0"
      ]
     },
     "metadata": {},
     "output_type": "display_data"
    },
    {
     "data": {
      "text/html": [
       "<div>\n",
       "<style scoped>\n",
       "    .dataframe tbody tr th:only-of-type {\n",
       "        vertical-align: middle;\n",
       "    }\n",
       "\n",
       "    .dataframe tbody tr th {\n",
       "        vertical-align: top;\n",
       "    }\n",
       "\n",
       "    .dataframe thead tr th {\n",
       "        text-align: left;\n",
       "    }\n",
       "\n",
       "    .dataframe thead tr:last-of-type th {\n",
       "        text-align: right;\n",
       "    }\n",
       "</style>\n",
       "<table border=\"1\" class=\"dataframe\">\n",
       "  <thead>\n",
       "    <tr>\n",
       "      <th>Contract</th>\n",
       "      <th colspan=\"2\" halign=\"left\">Month-to-month</th>\n",
       "      <th colspan=\"2\" halign=\"left\">One year</th>\n",
       "      <th colspan=\"2\" halign=\"left\">Two year</th>\n",
       "    </tr>\n",
       "    <tr>\n",
       "      <th>Churn</th>\n",
       "      <th>No</th>\n",
       "      <th>Yes</th>\n",
       "      <th>No</th>\n",
       "      <th>Yes</th>\n",
       "      <th>No</th>\n",
       "      <th>Yes</th>\n",
       "    </tr>\n",
       "    <tr>\n",
       "      <th>OnlineBackup</th>\n",
       "      <th></th>\n",
       "      <th></th>\n",
       "      <th></th>\n",
       "      <th></th>\n",
       "      <th></th>\n",
       "      <th></th>\n",
       "    </tr>\n",
       "  </thead>\n",
       "  <tbody>\n",
       "    <tr>\n",
       "      <th>No</th>\n",
       "      <td>780</td>\n",
       "      <td>806</td>\n",
       "      <td>296</td>\n",
       "      <td>47</td>\n",
       "      <td>208</td>\n",
       "      <td>11</td>\n",
       "    </tr>\n",
       "    <tr>\n",
       "      <th>No internet service</th>\n",
       "      <td>265</td>\n",
       "      <td>65</td>\n",
       "      <td>256</td>\n",
       "      <td>6</td>\n",
       "      <td>407</td>\n",
       "      <td>4</td>\n",
       "    </tr>\n",
       "    <tr>\n",
       "      <th>Yes</th>\n",
       "      <td>470</td>\n",
       "      <td>279</td>\n",
       "      <td>387</td>\n",
       "      <td>53</td>\n",
       "      <td>496</td>\n",
       "      <td>17</td>\n",
       "    </tr>\n",
       "  </tbody>\n",
       "</table>\n",
       "</div>"
      ],
      "text/plain": [
       "Contract            Month-to-month      One year     Two year    \n",
       "Churn                           No  Yes       No Yes       No Yes\n",
       "OnlineBackup                                                     \n",
       "No                             780  806      296  47      208  11\n",
       "No internet service            265   65      256   6      407   4\n",
       "Yes                            470  279      387  53      496  17"
      ]
     },
     "metadata": {},
     "output_type": "display_data"
    },
    {
     "data": {
      "text/html": [
       "<div>\n",
       "<style scoped>\n",
       "    .dataframe tbody tr th:only-of-type {\n",
       "        vertical-align: middle;\n",
       "    }\n",
       "\n",
       "    .dataframe tbody tr th {\n",
       "        vertical-align: top;\n",
       "    }\n",
       "\n",
       "    .dataframe thead tr th {\n",
       "        text-align: left;\n",
       "    }\n",
       "\n",
       "    .dataframe thead tr:last-of-type th {\n",
       "        text-align: right;\n",
       "    }\n",
       "</style>\n",
       "<table border=\"1\" class=\"dataframe\">\n",
       "  <thead>\n",
       "    <tr>\n",
       "      <th>PaperlessBilling</th>\n",
       "      <th colspan=\"2\" halign=\"left\">No</th>\n",
       "      <th colspan=\"2\" halign=\"left\">Yes</th>\n",
       "    </tr>\n",
       "    <tr>\n",
       "      <th>Churn</th>\n",
       "      <th>No</th>\n",
       "      <th>Yes</th>\n",
       "      <th>No</th>\n",
       "      <th>Yes</th>\n",
       "    </tr>\n",
       "    <tr>\n",
       "      <th>OnlineBackup</th>\n",
       "      <th></th>\n",
       "      <th></th>\n",
       "      <th></th>\n",
       "      <th></th>\n",
       "    </tr>\n",
       "  </thead>\n",
       "  <tbody>\n",
       "    <tr>\n",
       "      <th>No</th>\n",
       "      <td>485</td>\n",
       "      <td>204</td>\n",
       "      <td>799</td>\n",
       "      <td>660</td>\n",
       "    </tr>\n",
       "    <tr>\n",
       "      <th>No internet service</th>\n",
       "      <td>650</td>\n",
       "      <td>47</td>\n",
       "      <td>278</td>\n",
       "      <td>28</td>\n",
       "    </tr>\n",
       "    <tr>\n",
       "      <th>Yes</th>\n",
       "      <td>476</td>\n",
       "      <td>66</td>\n",
       "      <td>877</td>\n",
       "      <td>283</td>\n",
       "    </tr>\n",
       "  </tbody>\n",
       "</table>\n",
       "</div>"
      ],
      "text/plain": [
       "PaperlessBilling      No       Yes     \n",
       "Churn                 No  Yes   No  Yes\n",
       "OnlineBackup                           \n",
       "No                   485  204  799  660\n",
       "No internet service  650   47  278   28\n",
       "Yes                  476   66  877  283"
      ]
     },
     "metadata": {},
     "output_type": "display_data"
    }
   ],
   "source": [
    "for column in quali_columns:\n",
    "    display(df.pivot_table(index=quali_columns[2], columns=[column, target], aggfunc='size'))"
   ]
  },
  {
   "cell_type": "markdown",
   "metadata": {},
   "source": [
    "## Quantitative features"
   ]
  },
  {
   "cell_type": "markdown",
   "metadata": {},
   "source": [
    "Outliers"
   ]
  },
  {
   "cell_type": "code",
   "execution_count": 40,
   "metadata": {},
   "outputs": [
    {
     "data": {
      "image/png": "[encoded data removed]",
      "text/plain": [
       "<Figure size 1500x300 with 2 Axes>"
      ]
     },
     "metadata": {},
     "output_type": "display_data"
    }
   ],
   "source": [
    "quantitative_dis_plot(\n",
    "    features=quanti_columns,\n",
    "    df=df,\n",
    "    # segment_feature=target\n",
    ")"
   ]
  },
  {
   "cell_type": "markdown",
   "metadata": {},
   "source": [
    "Insight:\n",
    "- Tenure: Based on median, customers whose tenure is below 10 months are most likely to churn. Customers whose tenure more than 40 months (+3 years) are most likely to not churn.\n",
    "- Monthly charges: Based on median, customers whose monthly charges is above 80 are most likely to churn. Customers with low monthly charges (below 65) are most likely to not churn."
   ]
  },
  {
   "cell_type": "code",
   "execution_count": 41,
   "metadata": {},
   "outputs": [
    {
     "data": {
      "text/plain": [
       "<Figure size 20000x500 with 0 Axes>"
      ]
     },
     "metadata": {},
     "output_type": "display_data"
    },
    {
     "data": {
      "image/png": "[encoded data removed]",
      "text/plain": [
       "<Figure size 700x300 with 2 Axes>"
      ]
     },
     "metadata": {},
     "output_type": "display_data"
    }
   ],
   "source": [
    "plt.figure(figsize=(200,5))\n",
    "# sns.set(palette='Set1')\n",
    "\n",
    "fig, ax = plt.subplots(len(quanti_columns), 1,figsize=(7,3))\n",
    "plt.tight_layout()\n",
    "for i, feature in enumerate(quanti_columns):\n",
    "    sns.histplot(data=df, x=feature, ax=ax[i], bins=10, hue=target, multiple='stack', palette=['red','grey'])\n",
    "    ax[i].set_xlabel(None)\n",
    "    ax[i].set_ylabel(None)\n",
    "    ax[i].set_title(feature, fontsize=10)\n",
    "plt.show()"
   ]
  },
  {
   "cell_type": "markdown",
   "metadata": {},
   "source": [
    "Insight:\n",
    "- Tenure: Customers whose tenure is below 10 months are most likely to churn. Customers whose tenure more than 65 months (+5 years) are most likely to not churn.\n",
    "- Monthly charges: Customers whose monthly charges is above 70 are most likely to churn. Customers with low monthly charges (below 30) are most likely to not churn."
   ]
  },
  {
   "cell_type": "code",
   "execution_count": 42,
   "metadata": {},
   "outputs": [
    {
     "data": {
      "image/png": "[encoded data removed]",
      "text/plain": [
       "<Figure size 640x480 with 2 Axes>"
      ]
     },
     "metadata": {},
     "output_type": "display_data"
    }
   ],
   "source": [
    "fig, ax = plt.subplots(1, 2)\n",
    "sns.kdeplot(data=df[df['Churn']=='Yes'], x='tenure', y='MonthlyCharges', \n",
    "            color='r', shade=True, shade_lowest=False, cmap='Reds', \n",
    "            label='Yes', ax=ax[0])\n",
    "ax[0].set_title('Churn = Yes')\n",
    "\n",
    "sns.kdeplot(data=df[df['Churn']=='No'], x='tenure', y='MonthlyCharges', \n",
    "            color='b', shade=True, shade_lowest=False, cmap='Greys', \n",
    "            label='No', ax=ax[1])\n",
    "ax[1].set_title('Churn = No')\n",
    "ax[1].set_ylabel(None)\n",
    "plt.show()"
   ]
  },
  {
   "cell_type": "markdown",
   "metadata": {},
   "source": [
    "Insight:\n",
    "- Left KDE plot: Customers whose tenure is low (below 10 month) and monthly charges is high (above 70) are most likely to churn \n",
    "- Right KDE plot: Customers whose tenure is low (below 25 month) and monthly charge is low (below 30) are most likely to not churn. And customers whose tenure is high (above 50 month) and monthly charge is high (above 80) are most likely to not churn"
   ]
  },
  {
   "cell_type": "markdown",
   "metadata": {},
   "source": [
    "# Data Preprocessing"
   ]
  },
  {
   "cell_type": "code",
   "execution_count": 43,
   "metadata": {},
   "outputs": [],
   "source": [
    "x = df.drop(columns=target)\n",
    "y = df[target]\n",
    "\n",
    "target_encoder = LabelEncoder()\n",
    "y = target_encoder.fit_transform(y)\n",
    "\n",
    "column_names = list(x.columns)"
   ]
  },
  {
   "cell_type": "markdown",
   "metadata": {},
   "source": [
    "### Feature engineering"
   ]
  },
  {
   "cell_type": "markdown",
   "metadata": {},
   "source": [
    "**Binning numerical features**"
   ]
  },
  {
   "cell_type": "code",
   "execution_count": 44,
   "metadata": {},
   "outputs": [],
   "source": [
    "# def bin_tenure(value):\n",
    "#     if value > 60:\n",
    "#         bin = 'high'\n",
    "#     elif value > 10:\n",
    "#         bin = 'medium'\n",
    "#     else:\n",
    "#         bin = 'low'\n",
    "#     return bin\n",
    "\n",
    "# x['tenure'] = x['tenure'].apply(bin_tenure)\n",
    "# quanti_columns.remove('tenure')\n",
    "# quali_columns.append('tenure')\n",
    "\n",
    "# def bin_MonthlyCharges(value):\n",
    "#     if value > 70:\n",
    "#         bin = 'high'\n",
    "#     elif value > 30:\n",
    "#         bin = 'medium'\n",
    "#     else:\n",
    "#         bin = 'low'\n",
    "#     return bin\n",
    "\n",
    "# x['MonthlyCharges'] = x['MonthlyCharges'].apply(bin_MonthlyCharges)\n",
    "# quanti_columns.remove('MonthlyCharges')\n",
    "# quali_columns.append('MonthlyCharges')\n",
    "\n",
    "# x.head()"
   ]
  },
  {
   "cell_type": "code",
   "execution_count": 45,
   "metadata": {},
   "outputs": [],
   "source": [
    "# # Replacing 'no internet service' to 'No'\n",
    "# for column in ['OnlineSecurity', 'OnlineBackup', 'DeviceProtection', 'TechSupport']:\n",
    "#     x[column] = x[column].replace({'No internet service':'No'})"
   ]
  },
  {
   "cell_type": "code",
   "execution_count": 46,
   "metadata": {},
   "outputs": [],
   "source": [
    "# from sklearn.preprocessing import QuantileTransformer\n",
    "\n",
    "# # x['tenure'] = x['tenure'].replace(0, 1)\n",
    "# transformation = QuantileTransformer(output_distribution='normal')\n",
    "# x_transform = transformation.fit_transform(x[quanti_columns])\n",
    "# x_transform =  pd.DataFrame(x_transform, columns=quanti_columns)\n",
    "\n",
    "# x.drop(columns=quanti_columns, inplace=True)\n",
    "# x = pd.concat([x, x_transform], axis=1)\n",
    "# x.head()"
   ]
  },
  {
   "cell_type": "markdown",
   "metadata": {},
   "source": [
    "**Artificial features**"
   ]
  },
  {
   "cell_type": "code",
   "execution_count": 47,
   "metadata": {},
   "outputs": [],
   "source": [
    "# x['TotalCharges'] = x['MonthlyCharges'] * x['tenure']\n",
    "# quanti_columns.append('TotalCharges')\n",
    "# column_names.append('TotalCharges')\n",
    "# x.head()"
   ]
  },
  {
   "cell_type": "markdown",
   "metadata": {},
   "source": [
    "**Combining qualitative features**"
   ]
  },
  {
   "cell_type": "code",
   "execution_count": 48,
   "metadata": {},
   "outputs": [],
   "source": [
    "# col1 = quali_columns[2]\n",
    "# col2 = quali_columns[-1]\n",
    "\n",
    "# col_name = col1+'_'+col2\n",
    "# x[col_name] = x[col1].astype(str) + '_' + x[col2].astype(str)\n",
    "# x.drop(columns=[col1,col2], axis=1, inplace=True)\n",
    "\n",
    "# # Correcting qual columns\n",
    "# quali_columns.append(col_name)\n",
    "# quali_columns.remove(col1)\n",
    "# quali_columns.remove(col2)"
   ]
  },
  {
   "cell_type": "markdown",
   "metadata": {},
   "source": [
    "**Polynomial**"
   ]
  },
  {
   "cell_type": "code",
   "execution_count": 49,
   "metadata": {},
   "outputs": [],
   "source": [
    "# x.reset_index(drop=True)\n",
    "# poly = PolynomialFeatures(degree=3, include_bias=False)\n",
    "# x_poly = pd.DataFrame(poly.fit_transform(x[quanti_columns]))\n",
    "# x_poly.columns = ['poly'+str(i) for i in range(x_poly.shape[1])]\n",
    "# x = pd.concat([x.drop(columns=quanti_columns), x_poly], axis=1)\n",
    "# column_names = list(x.columns)\n",
    "# x.head()"
   ]
  },
  {
   "cell_type": "markdown",
   "metadata": {},
   "source": [
    "**PCA**"
   ]
  },
  {
   "cell_type": "code",
   "execution_count": 50,
   "metadata": {},
   "outputs": [],
   "source": [
    "# pca = PCA(n_components=len(x.columns), random_state=0)\n",
    "# princ_comp = pca.fit_transform(x)\n",
    "# var_exp = pca.explained_variance_ratio_.round(3)\n",
    "# cum_var_exp = np.cumsum(var_exp)\n",
    "\n",
    "# plt.bar(range(len(x.columns)), var_exp, alpha=0.5, align='center', label='individual explained variance')\n",
    "# plt.step(range(len(x.columns)), cum_var_exp, where='mid', label='cumulative explained variance')\n",
    "# plt.ylabel('Explained variance ratio')\n",
    "# plt.xlabel('Principal component index')\n",
    "# plt.legend(loc='best')\n",
    "# plt.show()"
   ]
  },
  {
   "cell_type": "code",
   "execution_count": 51,
   "metadata": {},
   "outputs": [],
   "source": [
    "# pca = PCA(n_components=2, random_state=0)\n",
    "# princ_comp = pca.fit_transform(x)\n",
    "# princ_comp_df = pd.DataFrame(princ_comp)\n",
    "# sns.scatterplot(data=princ_comp_df, x=0, y=1, hue=y)"
   ]
  },
  {
   "cell_type": "markdown",
   "metadata": {},
   "source": [
    "### Encoding"
   ]
  },
  {
   "cell_type": "code",
   "execution_count": 52,
   "metadata": {},
   "outputs": [],
   "source": [
    "# # Ordinal encoding\n",
    "# x['Contract'] = x['Contract'].map({'Month-to-month':0, 'One year':1, 'Two year':2})\n",
    "# quali_columns.remove('Contract')"
   ]
  },
  {
   "cell_type": "code",
   "execution_count": 53,
   "metadata": {},
   "outputs": [
    {
     "data": {
      "text/html": [
       "<div>\n",
       "<style scoped>\n",
       "    .dataframe tbody tr th:only-of-type {\n",
       "        vertical-align: middle;\n",
       "    }\n",
       "\n",
       "    .dataframe tbody tr th {\n",
       "        vertical-align: top;\n",
       "    }\n",
       "\n",
       "    .dataframe thead th {\n",
       "        text-align: right;\n",
       "    }\n",
       "</style>\n",
       "<table border=\"1\" class=\"dataframe\">\n",
       "  <thead>\n",
       "    <tr style=\"text-align: right;\">\n",
       "      <th></th>\n",
       "      <th>one-hot__Dependents_Yes</th>\n",
       "      <th>one-hot__OnlineSecurity_No internet service</th>\n",
       "      <th>one-hot__OnlineSecurity_Yes</th>\n",
       "      <th>one-hot__OnlineBackup_No internet service</th>\n",
       "      <th>one-hot__OnlineBackup_Yes</th>\n",
       "      <th>one-hot__InternetService_Fiber optic</th>\n",
       "      <th>one-hot__InternetService_No</th>\n",
       "      <th>one-hot__DeviceProtection_No internet service</th>\n",
       "      <th>one-hot__DeviceProtection_Yes</th>\n",
       "      <th>one-hot__TechSupport_No internet service</th>\n",
       "      <th>one-hot__TechSupport_Yes</th>\n",
       "      <th>one-hot__Contract_One year</th>\n",
       "      <th>one-hot__Contract_Two year</th>\n",
       "      <th>one-hot__PaperlessBilling_Yes</th>\n",
       "      <th>remainder__tenure</th>\n",
       "      <th>remainder__MonthlyCharges</th>\n",
       "    </tr>\n",
       "  </thead>\n",
       "  <tbody>\n",
       "    <tr>\n",
       "      <th>0</th>\n",
       "      <td>1.0</td>\n",
       "      <td>0.0</td>\n",
       "      <td>0.0</td>\n",
       "      <td>0.0</td>\n",
       "      <td>0.0</td>\n",
       "      <td>0.0</td>\n",
       "      <td>0.0</td>\n",
       "      <td>0.0</td>\n",
       "      <td>1.0</td>\n",
       "      <td>0.0</td>\n",
       "      <td>1.0</td>\n",
       "      <td>0.0</td>\n",
       "      <td>0.0</td>\n",
       "      <td>1.0</td>\n",
       "      <td>9</td>\n",
       "      <td>72.90</td>\n",
       "    </tr>\n",
       "    <tr>\n",
       "      <th>1</th>\n",
       "      <td>0.0</td>\n",
       "      <td>0.0</td>\n",
       "      <td>0.0</td>\n",
       "      <td>0.0</td>\n",
       "      <td>1.0</td>\n",
       "      <td>1.0</td>\n",
       "      <td>0.0</td>\n",
       "      <td>0.0</td>\n",
       "      <td>1.0</td>\n",
       "      <td>0.0</td>\n",
       "      <td>0.0</td>\n",
       "      <td>0.0</td>\n",
       "      <td>0.0</td>\n",
       "      <td>1.0</td>\n",
       "      <td>14</td>\n",
       "      <td>82.65</td>\n",
       "    </tr>\n",
       "    <tr>\n",
       "      <th>2</th>\n",
       "      <td>0.0</td>\n",
       "      <td>0.0</td>\n",
       "      <td>1.0</td>\n",
       "      <td>0.0</td>\n",
       "      <td>0.0</td>\n",
       "      <td>0.0</td>\n",
       "      <td>0.0</td>\n",
       "      <td>0.0</td>\n",
       "      <td>1.0</td>\n",
       "      <td>0.0</td>\n",
       "      <td>1.0</td>\n",
       "      <td>0.0</td>\n",
       "      <td>1.0</td>\n",
       "      <td>0.0</td>\n",
       "      <td>64</td>\n",
       "      <td>47.85</td>\n",
       "    </tr>\n",
       "    <tr>\n",
       "      <th>3</th>\n",
       "      <td>0.0</td>\n",
       "      <td>0.0</td>\n",
       "      <td>1.0</td>\n",
       "      <td>0.0</td>\n",
       "      <td>1.0</td>\n",
       "      <td>0.0</td>\n",
       "      <td>0.0</td>\n",
       "      <td>0.0</td>\n",
       "      <td>1.0</td>\n",
       "      <td>0.0</td>\n",
       "      <td>1.0</td>\n",
       "      <td>0.0</td>\n",
       "      <td>1.0</td>\n",
       "      <td>0.0</td>\n",
       "      <td>72</td>\n",
       "      <td>69.65</td>\n",
       "    </tr>\n",
       "    <tr>\n",
       "      <th>4</th>\n",
       "      <td>0.0</td>\n",
       "      <td>1.0</td>\n",
       "      <td>0.0</td>\n",
       "      <td>1.0</td>\n",
       "      <td>0.0</td>\n",
       "      <td>0.0</td>\n",
       "      <td>1.0</td>\n",
       "      <td>1.0</td>\n",
       "      <td>0.0</td>\n",
       "      <td>1.0</td>\n",
       "      <td>0.0</td>\n",
       "      <td>0.0</td>\n",
       "      <td>0.0</td>\n",
       "      <td>1.0</td>\n",
       "      <td>3</td>\n",
       "      <td>23.60</td>\n",
       "    </tr>\n",
       "  </tbody>\n",
       "</table>\n",
       "</div>"
      ],
      "text/plain": [
       "   one-hot__Dependents_Yes  one-hot__OnlineSecurity_No internet service  \\\n",
       "0                      1.0                                          0.0   \n",
       "1                      0.0                                          0.0   \n",
       "2                      0.0                                          0.0   \n",
       "3                      0.0                                          0.0   \n",
       "4                      0.0                                          1.0   \n",
       "\n",
       "   one-hot__OnlineSecurity_Yes  one-hot__OnlineBackup_No internet service  \\\n",
       "0                          0.0                                        0.0   \n",
       "1                          0.0                                        0.0   \n",
       "2                          1.0                                        0.0   \n",
       "3                          1.0                                        0.0   \n",
       "4                          0.0                                        1.0   \n",
       "\n",
       "   one-hot__OnlineBackup_Yes  one-hot__InternetService_Fiber optic  \\\n",
       "0                        0.0                                   0.0   \n",
       "1                        1.0                                   1.0   \n",
       "2                        0.0                                   0.0   \n",
       "3                        1.0                                   0.0   \n",
       "4                        0.0                                   0.0   \n",
       "\n",
       "   one-hot__InternetService_No  one-hot__DeviceProtection_No internet service  \\\n",
       "0                          0.0                                            0.0   \n",
       "1                          0.0                                            0.0   \n",
       "2                          0.0                                            0.0   \n",
       "3                          0.0                                            0.0   \n",
       "4                          1.0                                            1.0   \n",
       "\n",
       "   one-hot__DeviceProtection_Yes  one-hot__TechSupport_No internet service  \\\n",
       "0                            1.0                                       0.0   \n",
       "1                            1.0                                       0.0   \n",
       "2                            1.0                                       0.0   \n",
       "3                            1.0                                       0.0   \n",
       "4                            0.0                                       1.0   \n",
       "\n",
       "   one-hot__TechSupport_Yes  one-hot__Contract_One year  \\\n",
       "0                       1.0                         0.0   \n",
       "1                       0.0                         0.0   \n",
       "2                       1.0                         0.0   \n",
       "3                       1.0                         0.0   \n",
       "4                       0.0                         0.0   \n",
       "\n",
       "   one-hot__Contract_Two year  one-hot__PaperlessBilling_Yes  \\\n",
       "0                         0.0                            1.0   \n",
       "1                         0.0                            1.0   \n",
       "2                         1.0                            0.0   \n",
       "3                         1.0                            0.0   \n",
       "4                         0.0                            1.0   \n",
       "\n",
       "   remainder__tenure  remainder__MonthlyCharges  \n",
       "0                  9                      72.90  \n",
       "1                 14                      82.65  \n",
       "2                 64                      47.85  \n",
       "3                 72                      69.65  \n",
       "4                  3                      23.60  "
      ]
     },
     "execution_count": 53,
     "metadata": {},
     "output_type": "execute_result"
    }
   ],
   "source": [
    "# One-hot encoding\n",
    "encoder = ColumnTransformer(\n",
    "    [\n",
    "        ('one-hot', OneHotEncoder(drop='first', sparse_output=False), quali_columns)\n",
    "    ],remainder='passthrough'\n",
    ")\n",
    "encoder.set_output(transform='pandas')\n",
    "x = encoder.fit_transform(x)\n",
    "x.head( )"
   ]
  },
  {
   "cell_type": "code",
   "execution_count": 54,
   "metadata": {},
   "outputs": [
    {
     "data": {
      "text/html": [
       "<div>\n",
       "<style scoped>\n",
       "    .dataframe tbody tr th:only-of-type {\n",
       "        vertical-align: middle;\n",
       "    }\n",
       "\n",
       "    .dataframe tbody tr th {\n",
       "        vertical-align: top;\n",
       "    }\n",
       "\n",
       "    .dataframe thead th {\n",
       "        text-align: right;\n",
       "    }\n",
       "</style>\n",
       "<table border=\"1\" class=\"dataframe\">\n",
       "  <thead>\n",
       "    <tr style=\"text-align: right;\">\n",
       "      <th></th>\n",
       "      <th>Dependents_Yes</th>\n",
       "      <th>OnlineSecurity_No internet service</th>\n",
       "      <th>OnlineSecurity_Yes</th>\n",
       "      <th>OnlineBackup_No internet service</th>\n",
       "      <th>OnlineBackup_Yes</th>\n",
       "      <th>InternetService_Fiber optic</th>\n",
       "      <th>InternetService_No</th>\n",
       "      <th>DeviceProtection_No internet service</th>\n",
       "      <th>DeviceProtection_Yes</th>\n",
       "      <th>TechSupport_No internet service</th>\n",
       "      <th>TechSupport_Yes</th>\n",
       "      <th>Contract_One year</th>\n",
       "      <th>Contract_Two year</th>\n",
       "      <th>PaperlessBilling_Yes</th>\n",
       "      <th>tenure</th>\n",
       "      <th>MonthlyCharges</th>\n",
       "    </tr>\n",
       "  </thead>\n",
       "  <tbody>\n",
       "    <tr>\n",
       "      <th>0</th>\n",
       "      <td>1.0</td>\n",
       "      <td>0.0</td>\n",
       "      <td>0.0</td>\n",
       "      <td>0.0</td>\n",
       "      <td>0.0</td>\n",
       "      <td>0.0</td>\n",
       "      <td>0.0</td>\n",
       "      <td>0.0</td>\n",
       "      <td>1.0</td>\n",
       "      <td>0.0</td>\n",
       "      <td>1.0</td>\n",
       "      <td>0.0</td>\n",
       "      <td>0.0</td>\n",
       "      <td>1.0</td>\n",
       "      <td>9</td>\n",
       "      <td>72.90</td>\n",
       "    </tr>\n",
       "    <tr>\n",
       "      <th>1</th>\n",
       "      <td>0.0</td>\n",
       "      <td>0.0</td>\n",
       "      <td>0.0</td>\n",
       "      <td>0.0</td>\n",
       "      <td>1.0</td>\n",
       "      <td>1.0</td>\n",
       "      <td>0.0</td>\n",
       "      <td>0.0</td>\n",
       "      <td>1.0</td>\n",
       "      <td>0.0</td>\n",
       "      <td>0.0</td>\n",
       "      <td>0.0</td>\n",
       "      <td>0.0</td>\n",
       "      <td>1.0</td>\n",
       "      <td>14</td>\n",
       "      <td>82.65</td>\n",
       "    </tr>\n",
       "    <tr>\n",
       "      <th>2</th>\n",
       "      <td>0.0</td>\n",
       "      <td>0.0</td>\n",
       "      <td>1.0</td>\n",
       "      <td>0.0</td>\n",
       "      <td>0.0</td>\n",
       "      <td>0.0</td>\n",
       "      <td>0.0</td>\n",
       "      <td>0.0</td>\n",
       "      <td>1.0</td>\n",
       "      <td>0.0</td>\n",
       "      <td>1.0</td>\n",
       "      <td>0.0</td>\n",
       "      <td>1.0</td>\n",
       "      <td>0.0</td>\n",
       "      <td>64</td>\n",
       "      <td>47.85</td>\n",
       "    </tr>\n",
       "    <tr>\n",
       "      <th>3</th>\n",
       "      <td>0.0</td>\n",
       "      <td>0.0</td>\n",
       "      <td>1.0</td>\n",
       "      <td>0.0</td>\n",
       "      <td>1.0</td>\n",
       "      <td>0.0</td>\n",
       "      <td>0.0</td>\n",
       "      <td>0.0</td>\n",
       "      <td>1.0</td>\n",
       "      <td>0.0</td>\n",
       "      <td>1.0</td>\n",
       "      <td>0.0</td>\n",
       "      <td>1.0</td>\n",
       "      <td>0.0</td>\n",
       "      <td>72</td>\n",
       "      <td>69.65</td>\n",
       "    </tr>\n",
       "    <tr>\n",
       "      <th>4</th>\n",
       "      <td>0.0</td>\n",
       "      <td>1.0</td>\n",
       "      <td>0.0</td>\n",
       "      <td>1.0</td>\n",
       "      <td>0.0</td>\n",
       "      <td>0.0</td>\n",
       "      <td>1.0</td>\n",
       "      <td>1.0</td>\n",
       "      <td>0.0</td>\n",
       "      <td>1.0</td>\n",
       "      <td>0.0</td>\n",
       "      <td>0.0</td>\n",
       "      <td>0.0</td>\n",
       "      <td>1.0</td>\n",
       "      <td>3</td>\n",
       "      <td>23.60</td>\n",
       "    </tr>\n",
       "  </tbody>\n",
       "</table>\n",
       "</div>"
      ],
      "text/plain": [
       "   Dependents_Yes  OnlineSecurity_No internet service  OnlineSecurity_Yes  \\\n",
       "0             1.0                                 0.0                 0.0   \n",
       "1             0.0                                 0.0                 0.0   \n",
       "2             0.0                                 0.0                 1.0   \n",
       "3             0.0                                 0.0                 1.0   \n",
       "4             0.0                                 1.0                 0.0   \n",
       "\n",
       "   OnlineBackup_No internet service  OnlineBackup_Yes  \\\n",
       "0                               0.0               0.0   \n",
       "1                               0.0               1.0   \n",
       "2                               0.0               0.0   \n",
       "3                               0.0               1.0   \n",
       "4                               1.0               0.0   \n",
       "\n",
       "   InternetService_Fiber optic  InternetService_No  \\\n",
       "0                          0.0                 0.0   \n",
       "1                          1.0                 0.0   \n",
       "2                          0.0                 0.0   \n",
       "3                          0.0                 0.0   \n",
       "4                          0.0                 1.0   \n",
       "\n",
       "   DeviceProtection_No internet service  DeviceProtection_Yes  \\\n",
       "0                                   0.0                   1.0   \n",
       "1                                   0.0                   1.0   \n",
       "2                                   0.0                   1.0   \n",
       "3                                   0.0                   1.0   \n",
       "4                                   1.0                   0.0   \n",
       "\n",
       "   TechSupport_No internet service  TechSupport_Yes  Contract_One year  \\\n",
       "0                              0.0              1.0                0.0   \n",
       "1                              0.0              0.0                0.0   \n",
       "2                              0.0              1.0                0.0   \n",
       "3                              0.0              1.0                0.0   \n",
       "4                              1.0              0.0                0.0   \n",
       "\n",
       "   Contract_Two year  PaperlessBilling_Yes  tenure  MonthlyCharges  \n",
       "0                0.0                   1.0       9           72.90  \n",
       "1                0.0                   1.0      14           82.65  \n",
       "2                1.0                   0.0      64           47.85  \n",
       "3                1.0                   0.0      72           69.65  \n",
       "4                0.0                   1.0       3           23.60  "
      ]
     },
     "execution_count": 54,
     "metadata": {},
     "output_type": "execute_result"
    }
   ],
   "source": [
    "column_names = list(encoder.get_feature_names_out())\n",
    "for i in range(len(column_names)):\n",
    "    column_names[i] = column_names[i].replace('one-hot__', '')\n",
    "    column_names[i] = column_names[i].replace('remainder__', '')\n",
    "x.columns = column_names\n",
    "x.head()"
   ]
  },
  {
   "cell_type": "markdown",
   "metadata": {},
   "source": [
    "**Multiply qualitative with quantitative**"
   ]
  },
  {
   "cell_type": "code",
   "execution_count": 55,
   "metadata": {},
   "outputs": [],
   "source": [
    "# quanti_columns_encoded = x.loc[:, ~x.columns.isin(quanti_columns)].columns\n",
    "# for column in quanti_columns_encoded:\n",
    "#     x[column] = x[column] * x['TotalCharges']\n",
    "# x.head()"
   ]
  },
  {
   "cell_type": "markdown",
   "metadata": {},
   "source": [
    "### Feature selection"
   ]
  },
  {
   "cell_type": "code",
   "execution_count": 56,
   "metadata": {},
   "outputs": [
    {
     "name": "stdout",
     "output_type": "stream",
     "text": [
      "number of column 13\n"
     ]
    },
    {
     "data": {
      "text/html": [
       "<div>\n",
       "<style scoped>\n",
       "    .dataframe tbody tr th:only-of-type {\n",
       "        vertical-align: middle;\n",
       "    }\n",
       "\n",
       "    .dataframe tbody tr th {\n",
       "        vertical-align: top;\n",
       "    }\n",
       "\n",
       "    .dataframe thead th {\n",
       "        text-align: right;\n",
       "    }\n",
       "</style>\n",
       "<table border=\"1\" class=\"dataframe\">\n",
       "  <thead>\n",
       "    <tr style=\"text-align: right;\">\n",
       "      <th></th>\n",
       "      <th>Dependents_Yes</th>\n",
       "      <th>OnlineSecurity_No internet service</th>\n",
       "      <th>OnlineSecurity_Yes</th>\n",
       "      <th>OnlineBackup_Yes</th>\n",
       "      <th>InternetService_Fiber optic</th>\n",
       "      <th>InternetService_No</th>\n",
       "      <th>DeviceProtection_Yes</th>\n",
       "      <th>TechSupport_Yes</th>\n",
       "      <th>Contract_One year</th>\n",
       "      <th>Contract_Two year</th>\n",
       "      <th>PaperlessBilling_Yes</th>\n",
       "      <th>tenure</th>\n",
       "      <th>MonthlyCharges</th>\n",
       "    </tr>\n",
       "  </thead>\n",
       "  <tbody>\n",
       "    <tr>\n",
       "      <th>0</th>\n",
       "      <td>1.0</td>\n",
       "      <td>0.0</td>\n",
       "      <td>0.0</td>\n",
       "      <td>0.0</td>\n",
       "      <td>0.0</td>\n",
       "      <td>0.0</td>\n",
       "      <td>1.0</td>\n",
       "      <td>1.0</td>\n",
       "      <td>0.0</td>\n",
       "      <td>0.0</td>\n",
       "      <td>1.0</td>\n",
       "      <td>9</td>\n",
       "      <td>72.90</td>\n",
       "    </tr>\n",
       "    <tr>\n",
       "      <th>1</th>\n",
       "      <td>0.0</td>\n",
       "      <td>0.0</td>\n",
       "      <td>0.0</td>\n",
       "      <td>1.0</td>\n",
       "      <td>1.0</td>\n",
       "      <td>0.0</td>\n",
       "      <td>1.0</td>\n",
       "      <td>0.0</td>\n",
       "      <td>0.0</td>\n",
       "      <td>0.0</td>\n",
       "      <td>1.0</td>\n",
       "      <td>14</td>\n",
       "      <td>82.65</td>\n",
       "    </tr>\n",
       "    <tr>\n",
       "      <th>2</th>\n",
       "      <td>0.0</td>\n",
       "      <td>0.0</td>\n",
       "      <td>1.0</td>\n",
       "      <td>0.0</td>\n",
       "      <td>0.0</td>\n",
       "      <td>0.0</td>\n",
       "      <td>1.0</td>\n",
       "      <td>1.0</td>\n",
       "      <td>0.0</td>\n",
       "      <td>1.0</td>\n",
       "      <td>0.0</td>\n",
       "      <td>64</td>\n",
       "      <td>47.85</td>\n",
       "    </tr>\n",
       "    <tr>\n",
       "      <th>3</th>\n",
       "      <td>0.0</td>\n",
       "      <td>0.0</td>\n",
       "      <td>1.0</td>\n",
       "      <td>1.0</td>\n",
       "      <td>0.0</td>\n",
       "      <td>0.0</td>\n",
       "      <td>1.0</td>\n",
       "      <td>1.0</td>\n",
       "      <td>0.0</td>\n",
       "      <td>1.0</td>\n",
       "      <td>0.0</td>\n",
       "      <td>72</td>\n",
       "      <td>69.65</td>\n",
       "    </tr>\n",
       "    <tr>\n",
       "      <th>4</th>\n",
       "      <td>0.0</td>\n",
       "      <td>1.0</td>\n",
       "      <td>0.0</td>\n",
       "      <td>0.0</td>\n",
       "      <td>0.0</td>\n",
       "      <td>1.0</td>\n",
       "      <td>0.0</td>\n",
       "      <td>0.0</td>\n",
       "      <td>0.0</td>\n",
       "      <td>0.0</td>\n",
       "      <td>1.0</td>\n",
       "      <td>3</td>\n",
       "      <td>23.60</td>\n",
       "    </tr>\n",
       "  </tbody>\n",
       "</table>\n",
       "</div>"
      ],
      "text/plain": [
       "   Dependents_Yes  OnlineSecurity_No internet service  OnlineSecurity_Yes  \\\n",
       "0             1.0                                 0.0                 0.0   \n",
       "1             0.0                                 0.0                 0.0   \n",
       "2             0.0                                 0.0                 1.0   \n",
       "3             0.0                                 0.0                 1.0   \n",
       "4             0.0                                 1.0                 0.0   \n",
       "\n",
       "   OnlineBackup_Yes  InternetService_Fiber optic  InternetService_No  \\\n",
       "0               0.0                          0.0                 0.0   \n",
       "1               1.0                          1.0                 0.0   \n",
       "2               0.0                          0.0                 0.0   \n",
       "3               1.0                          0.0                 0.0   \n",
       "4               0.0                          0.0                 1.0   \n",
       "\n",
       "   DeviceProtection_Yes  TechSupport_Yes  Contract_One year  \\\n",
       "0                   1.0              1.0                0.0   \n",
       "1                   1.0              0.0                0.0   \n",
       "2                   1.0              1.0                0.0   \n",
       "3                   1.0              1.0                0.0   \n",
       "4                   0.0              0.0                0.0   \n",
       "\n",
       "   Contract_Two year  PaperlessBilling_Yes  tenure  MonthlyCharges  \n",
       "0                0.0                   1.0       9           72.90  \n",
       "1                0.0                   1.0      14           82.65  \n",
       "2                1.0                   0.0      64           47.85  \n",
       "3                1.0                   0.0      72           69.65  \n",
       "4                0.0                   1.0       3           23.60  "
      ]
     },
     "execution_count": 56,
     "metadata": {},
     "output_type": "execute_result"
    }
   ],
   "source": [
    "# Remove duplicates on column 'No internet service' as they have the same value for each row\n",
    "\n",
    "firts = True\n",
    "for column in x.columns:\n",
    "    if 'No internet service' in column:\n",
    "        if firts:\n",
    "            firts = False\n",
    "        else:\n",
    "            x.drop(columns=column, inplace=True)\n",
    "            column_names.remove(column)\n",
    "\n",
    "print('number of column', x.shape[1])\n",
    "x.head()"
   ]
  },
  {
   "cell_type": "code",
   "execution_count": 57,
   "metadata": {},
   "outputs": [],
   "source": [
    "# feature_selection = VarianceThreshold(threshold=(0.4 * (1-0.4)))\n",
    "# feature_selection = SelectKBest(f_classif, k=20)\n",
    "# x = feature_selection.fit_transform(x)#, y)"
   ]
  },
  {
   "cell_type": "markdown",
   "metadata": {},
   "source": [
    "**Feature selection for qualitative data**"
   ]
  },
  {
   "cell_type": "code",
   "execution_count": 58,
   "metadata": {},
   "outputs": [
    {
     "data": {
      "text/html": [
       "<div>\n",
       "<style scoped>\n",
       "    .dataframe tbody tr th:only-of-type {\n",
       "        vertical-align: middle;\n",
       "    }\n",
       "\n",
       "    .dataframe tbody tr th {\n",
       "        vertical-align: top;\n",
       "    }\n",
       "\n",
       "    .dataframe thead th {\n",
       "        text-align: right;\n",
       "    }\n",
       "</style>\n",
       "<table border=\"1\" class=\"dataframe\">\n",
       "  <thead>\n",
       "    <tr style=\"text-align: right;\">\n",
       "      <th></th>\n",
       "      <th>column</th>\n",
       "      <th>p-value</th>\n",
       "      <th>chi2-stat</th>\n",
       "    </tr>\n",
       "  </thead>\n",
       "  <tbody>\n",
       "    <tr>\n",
       "      <th>0</th>\n",
       "      <td>Dependents_Yes</td>\n",
       "      <td>6.790951e-23</td>\n",
       "      <td>97.040913</td>\n",
       "    </tr>\n",
       "    <tr>\n",
       "      <th>1</th>\n",
       "      <td>OnlineSecurity_No internet service</td>\n",
       "      <td>1.475787e-42</td>\n",
       "      <td>186.945804</td>\n",
       "    </tr>\n",
       "    <tr>\n",
       "      <th>2</th>\n",
       "      <td>OnlineSecurity_Yes</td>\n",
       "      <td>1.089918e-23</td>\n",
       "      <td>100.663941</td>\n",
       "    </tr>\n",
       "    <tr>\n",
       "      <th>3</th>\n",
       "      <td>OnlineBackup_Yes</td>\n",
       "      <td>1.713336e-08</td>\n",
       "      <td>31.794996</td>\n",
       "    </tr>\n",
       "    <tr>\n",
       "      <th>4</th>\n",
       "      <td>InternetService_Fiber optic</td>\n",
       "      <td>1.876761e-58</td>\n",
       "      <td>259.821573</td>\n",
       "    </tr>\n",
       "    <tr>\n",
       "      <th>5</th>\n",
       "      <td>InternetService_No</td>\n",
       "      <td>1.475787e-42</td>\n",
       "      <td>186.945804</td>\n",
       "    </tr>\n",
       "    <tr>\n",
       "      <th>6</th>\n",
       "      <td>DeviceProtection_Yes</td>\n",
       "      <td>3.396393e-04</td>\n",
       "      <td>12.838062</td>\n",
       "    </tr>\n",
       "    <tr>\n",
       "      <th>7</th>\n",
       "      <td>TechSupport_Yes</td>\n",
       "      <td>5.520074e-22</td>\n",
       "      <td>92.892952</td>\n",
       "    </tr>\n",
       "    <tr>\n",
       "      <th>8</th>\n",
       "      <td>Contract_One year</td>\n",
       "      <td>3.371361e-33</td>\n",
       "      <td>144.104218</td>\n",
       "    </tr>\n",
       "    <tr>\n",
       "      <th>9</th>\n",
       "      <td>Contract_Two year</td>\n",
       "      <td>7.757098e-74</td>\n",
       "      <td>330.427400</td>\n",
       "    </tr>\n",
       "    <tr>\n",
       "      <th>10</th>\n",
       "      <td>PaperlessBilling_Yes</td>\n",
       "      <td>3.549634e-16</td>\n",
       "      <td>66.471644</td>\n",
       "    </tr>\n",
       "  </tbody>\n",
       "</table>\n",
       "</div>"
      ],
      "text/plain": [
       "                                column       p-value   chi2-stat\n",
       "0                       Dependents_Yes  6.790951e-23   97.040913\n",
       "1   OnlineSecurity_No internet service  1.475787e-42  186.945804\n",
       "2                   OnlineSecurity_Yes  1.089918e-23  100.663941\n",
       "3                     OnlineBackup_Yes  1.713336e-08   31.794996\n",
       "4          InternetService_Fiber optic  1.876761e-58  259.821573\n",
       "5                   InternetService_No  1.475787e-42  186.945804\n",
       "6                 DeviceProtection_Yes  3.396393e-04   12.838062\n",
       "7                      TechSupport_Yes  5.520074e-22   92.892952\n",
       "8                    Contract_One year  3.371361e-33  144.104218\n",
       "9                    Contract_Two year  7.757098e-74  330.427400\n",
       "10                PaperlessBilling_Yes  3.549634e-16   66.471644"
      ]
     },
     "execution_count": 58,
     "metadata": {},
     "output_type": "execute_result"
    }
   ],
   "source": [
    "# Univariate statistics (chi-squared test)\n",
    "\n",
    "x_cat = x.iloc[:, :-2]\n",
    "chi2_stats, p_values = chi2(x_cat, y)\n",
    "chi2_df = pd.DataFrame(\n",
    "    {\n",
    "        'column': list(x_cat.columns),\n",
    "        'p-value': p_values,\n",
    "        'chi2-stat': chi2_stats\n",
    "    }\n",
    ")\n",
    "chi2_df"
   ]
  },
  {
   "cell_type": "markdown",
   "metadata": {},
   "source": [
    "All qualitative features are statistically significant to target variable. Indicated with p-value lower than 0.05 (for 95% condidence level). Thus we'll use all qualiative features."
   ]
  },
  {
   "cell_type": "code",
   "execution_count": 59,
   "metadata": {},
   "outputs": [
    {
     "data": {
      "text/plain": [
       "[]"
      ]
     },
     "execution_count": 59,
     "metadata": {},
     "output_type": "execute_result"
    },
    {
     "data": {
      "image/png": "[encoded data removed]",
      "text/plain": [
       "<Figure size 640x480 with 1 Axes>"
      ]
     },
     "metadata": {},
     "output_type": "display_data"
    }
   ],
   "source": [
    "sns.barplot(data=chi2_df, x='chi2-stat', y='column')\n",
    "plt.ylabel(None)\n",
    "plt.plot()"
   ]
  },
  {
   "cell_type": "markdown",
   "metadata": {},
   "source": [
    "Dropping DeviceProtection_Yes and/or OnlineBackup_Yes might result in a better model performance because it has a relatively lower chi2 value."
   ]
  },
  {
   "cell_type": "code",
   "execution_count": 60,
   "metadata": {},
   "outputs": [
    {
     "name": "stdout",
     "output_type": "stream",
     "text": [
      "number of column 12\n"
     ]
    },
    {
     "data": {
      "text/html": [
       "<div>\n",
       "<style scoped>\n",
       "    .dataframe tbody tr th:only-of-type {\n",
       "        vertical-align: middle;\n",
       "    }\n",
       "\n",
       "    .dataframe tbody tr th {\n",
       "        vertical-align: top;\n",
       "    }\n",
       "\n",
       "    .dataframe thead th {\n",
       "        text-align: right;\n",
       "    }\n",
       "</style>\n",
       "<table border=\"1\" class=\"dataframe\">\n",
       "  <thead>\n",
       "    <tr style=\"text-align: right;\">\n",
       "      <th></th>\n",
       "      <th>Dependents_Yes</th>\n",
       "      <th>OnlineSecurity_No internet service</th>\n",
       "      <th>OnlineSecurity_Yes</th>\n",
       "      <th>OnlineBackup_Yes</th>\n",
       "      <th>InternetService_Fiber optic</th>\n",
       "      <th>InternetService_No</th>\n",
       "      <th>TechSupport_Yes</th>\n",
       "      <th>Contract_One year</th>\n",
       "      <th>Contract_Two year</th>\n",
       "      <th>PaperlessBilling_Yes</th>\n",
       "      <th>tenure</th>\n",
       "      <th>MonthlyCharges</th>\n",
       "    </tr>\n",
       "  </thead>\n",
       "  <tbody>\n",
       "    <tr>\n",
       "      <th>0</th>\n",
       "      <td>1.0</td>\n",
       "      <td>0.0</td>\n",
       "      <td>0.0</td>\n",
       "      <td>0.0</td>\n",
       "      <td>0.0</td>\n",
       "      <td>0.0</td>\n",
       "      <td>1.0</td>\n",
       "      <td>0.0</td>\n",
       "      <td>0.0</td>\n",
       "      <td>1.0</td>\n",
       "      <td>9</td>\n",
       "      <td>72.90</td>\n",
       "    </tr>\n",
       "    <tr>\n",
       "      <th>1</th>\n",
       "      <td>0.0</td>\n",
       "      <td>0.0</td>\n",
       "      <td>0.0</td>\n",
       "      <td>1.0</td>\n",
       "      <td>1.0</td>\n",
       "      <td>0.0</td>\n",
       "      <td>0.0</td>\n",
       "      <td>0.0</td>\n",
       "      <td>0.0</td>\n",
       "      <td>1.0</td>\n",
       "      <td>14</td>\n",
       "      <td>82.65</td>\n",
       "    </tr>\n",
       "    <tr>\n",
       "      <th>2</th>\n",
       "      <td>0.0</td>\n",
       "      <td>0.0</td>\n",
       "      <td>1.0</td>\n",
       "      <td>0.0</td>\n",
       "      <td>0.0</td>\n",
       "      <td>0.0</td>\n",
       "      <td>1.0</td>\n",
       "      <td>0.0</td>\n",
       "      <td>1.0</td>\n",
       "      <td>0.0</td>\n",
       "      <td>64</td>\n",
       "      <td>47.85</td>\n",
       "    </tr>\n",
       "    <tr>\n",
       "      <th>3</th>\n",
       "      <td>0.0</td>\n",
       "      <td>0.0</td>\n",
       "      <td>1.0</td>\n",
       "      <td>1.0</td>\n",
       "      <td>0.0</td>\n",
       "      <td>0.0</td>\n",
       "      <td>1.0</td>\n",
       "      <td>0.0</td>\n",
       "      <td>1.0</td>\n",
       "      <td>0.0</td>\n",
       "      <td>72</td>\n",
       "      <td>69.65</td>\n",
       "    </tr>\n",
       "    <tr>\n",
       "      <th>4</th>\n",
       "      <td>0.0</td>\n",
       "      <td>1.0</td>\n",
       "      <td>0.0</td>\n",
       "      <td>0.0</td>\n",
       "      <td>0.0</td>\n",
       "      <td>1.0</td>\n",
       "      <td>0.0</td>\n",
       "      <td>0.0</td>\n",
       "      <td>0.0</td>\n",
       "      <td>1.0</td>\n",
       "      <td>3</td>\n",
       "      <td>23.60</td>\n",
       "    </tr>\n",
       "  </tbody>\n",
       "</table>\n",
       "</div>"
      ],
      "text/plain": [
       "   Dependents_Yes  OnlineSecurity_No internet service  OnlineSecurity_Yes  \\\n",
       "0             1.0                                 0.0                 0.0   \n",
       "1             0.0                                 0.0                 0.0   \n",
       "2             0.0                                 0.0                 1.0   \n",
       "3             0.0                                 0.0                 1.0   \n",
       "4             0.0                                 1.0                 0.0   \n",
       "\n",
       "   OnlineBackup_Yes  InternetService_Fiber optic  InternetService_No  \\\n",
       "0               0.0                          0.0                 0.0   \n",
       "1               1.0                          1.0                 0.0   \n",
       "2               0.0                          0.0                 0.0   \n",
       "3               1.0                          0.0                 0.0   \n",
       "4               0.0                          0.0                 1.0   \n",
       "\n",
       "   TechSupport_Yes  Contract_One year  Contract_Two year  \\\n",
       "0              1.0                0.0                0.0   \n",
       "1              0.0                0.0                0.0   \n",
       "2              1.0                0.0                1.0   \n",
       "3              1.0                0.0                1.0   \n",
       "4              0.0                0.0                0.0   \n",
       "\n",
       "   PaperlessBilling_Yes  tenure  MonthlyCharges  \n",
       "0                   1.0       9           72.90  \n",
       "1                   1.0      14           82.65  \n",
       "2                   0.0      64           47.85  \n",
       "3                   0.0      72           69.65  \n",
       "4                   1.0       3           23.60  "
      ]
     },
     "execution_count": 60,
     "metadata": {},
     "output_type": "execute_result"
    }
   ],
   "source": [
    "x.drop(['DeviceProtection_Yes'], axis=1, inplace=True)\n",
    "column_names.remove('DeviceProtection_Yes')\n",
    "\n",
    "print('number of column', x.shape[1])\n",
    "x.head()"
   ]
  },
  {
   "cell_type": "markdown",
   "metadata": {},
   "source": [
    "**Feature selection for quantitative data**"
   ]
  },
  {
   "cell_type": "code",
   "execution_count": 61,
   "metadata": {},
   "outputs": [
    {
     "data": {
      "text/html": [
       "<div>\n",
       "<style scoped>\n",
       "    .dataframe tbody tr th:only-of-type {\n",
       "        vertical-align: middle;\n",
       "    }\n",
       "\n",
       "    .dataframe tbody tr th {\n",
       "        vertical-align: top;\n",
       "    }\n",
       "\n",
       "    .dataframe thead th {\n",
       "        text-align: right;\n",
       "    }\n",
       "</style>\n",
       "<table border=\"1\" class=\"dataframe\">\n",
       "  <thead>\n",
       "    <tr style=\"text-align: right;\">\n",
       "      <th></th>\n",
       "      <th>column</th>\n",
       "      <th>p-value</th>\n",
       "      <th>f-stat</th>\n",
       "    </tr>\n",
       "  </thead>\n",
       "  <tbody>\n",
       "    <tr>\n",
       "      <th>0</th>\n",
       "      <td>tenure</td>\n",
       "      <td>3.123697e-149</td>\n",
       "      <td>726.504745</td>\n",
       "    </tr>\n",
       "    <tr>\n",
       "      <th>1</th>\n",
       "      <td>MonthlyCharges</td>\n",
       "      <td>1.734247e-42</td>\n",
       "      <td>190.281008</td>\n",
       "    </tr>\n",
       "  </tbody>\n",
       "</table>\n",
       "</div>"
      ],
      "text/plain": [
       "           column        p-value      f-stat\n",
       "0          tenure  3.123697e-149  726.504745\n",
       "1  MonthlyCharges   1.734247e-42  190.281008"
      ]
     },
     "execution_count": 61,
     "metadata": {},
     "output_type": "execute_result"
    }
   ],
   "source": [
    "# Univariate statistics (f test)\n",
    "\n",
    "x_num = x.iloc[:, -2:]\n",
    "f_stats, p_values = f_classif(x_num, y)\n",
    "ftest_df = pd.DataFrame(\n",
    "    {\n",
    "        'column': list(x_num.columns),\n",
    "        'p-value': p_values,\n",
    "        'f-stat': f_stats\n",
    "    }\n",
    ")\n",
    "ftest_df"
   ]
  },
  {
   "cell_type": "markdown",
   "metadata": {},
   "source": [
    "All quantitative features are statistically significant to target variable. Indicated with p-value lower than 0.05 (for 95% condidence level). Thus we'll use all quantitative features."
   ]
  },
  {
   "cell_type": "code",
   "execution_count": 62,
   "metadata": {},
   "outputs": [
    {
     "data": {
      "text/plain": [
       "[]"
      ]
     },
     "execution_count": 62,
     "metadata": {},
     "output_type": "execute_result"
    },
    {
     "data": {
      "image/png": "[encoded data removed]",
      "text/plain": [
       "<Figure size 640x480 with 1 Axes>"
      ]
     },
     "metadata": {},
     "output_type": "display_data"
    }
   ],
   "source": [
    "sns.barplot(data=ftest_df, x='f-stat', y='column')\n",
    "plt.ylabel(None)\n",
    "plt.plot()"
   ]
  },
  {
   "cell_type": "markdown",
   "metadata": {},
   "source": [
    "### Train-test split"
   ]
  },
  {
   "cell_type": "code",
   "execution_count": 63,
   "metadata": {},
   "outputs": [],
   "source": [
    "x_train, x_test, y_train, y_test = train_test_split(\n",
    "    x,\n",
    "    y,\n",
    "    test_size=0.2,\n",
    "    stratify=y,\n",
    "    random_state=0\n",
    ")"
   ]
  },
  {
   "cell_type": "code",
   "execution_count": 64,
   "metadata": {},
   "outputs": [
    {
     "data": {
      "text/html": [
       "<div>\n",
       "<style scoped>\n",
       "    .dataframe tbody tr th:only-of-type {\n",
       "        vertical-align: middle;\n",
       "    }\n",
       "\n",
       "    .dataframe tbody tr th {\n",
       "        vertical-align: top;\n",
       "    }\n",
       "\n",
       "    .dataframe thead th {\n",
       "        text-align: right;\n",
       "    }\n",
       "</style>\n",
       "<table border=\"1\" class=\"dataframe\">\n",
       "  <thead>\n",
       "    <tr style=\"text-align: right;\">\n",
       "      <th></th>\n",
       "      <th>Dependents_Yes</th>\n",
       "      <th>OnlineSecurity_No internet service</th>\n",
       "      <th>OnlineSecurity_Yes</th>\n",
       "      <th>OnlineBackup_Yes</th>\n",
       "      <th>InternetService_Fiber optic</th>\n",
       "      <th>InternetService_No</th>\n",
       "      <th>TechSupport_Yes</th>\n",
       "      <th>Contract_One year</th>\n",
       "      <th>Contract_Two year</th>\n",
       "      <th>PaperlessBilling_Yes</th>\n",
       "      <th>tenure</th>\n",
       "      <th>MonthlyCharges</th>\n",
       "    </tr>\n",
       "  </thead>\n",
       "  <tbody>\n",
       "    <tr>\n",
       "      <th>3738</th>\n",
       "      <td>0.0</td>\n",
       "      <td>0.0</td>\n",
       "      <td>1.0</td>\n",
       "      <td>1.0</td>\n",
       "      <td>0.0</td>\n",
       "      <td>0.0</td>\n",
       "      <td>1.0</td>\n",
       "      <td>0.0</td>\n",
       "      <td>1.0</td>\n",
       "      <td>1.0</td>\n",
       "      <td>67</td>\n",
       "      <td>50.95</td>\n",
       "    </tr>\n",
       "    <tr>\n",
       "      <th>3311</th>\n",
       "      <td>1.0</td>\n",
       "      <td>0.0</td>\n",
       "      <td>1.0</td>\n",
       "      <td>1.0</td>\n",
       "      <td>0.0</td>\n",
       "      <td>0.0</td>\n",
       "      <td>1.0</td>\n",
       "      <td>0.0</td>\n",
       "      <td>1.0</td>\n",
       "      <td>0.0</td>\n",
       "      <td>71</td>\n",
       "      <td>85.45</td>\n",
       "    </tr>\n",
       "    <tr>\n",
       "      <th>2379</th>\n",
       "      <td>0.0</td>\n",
       "      <td>1.0</td>\n",
       "      <td>0.0</td>\n",
       "      <td>0.0</td>\n",
       "      <td>0.0</td>\n",
       "      <td>1.0</td>\n",
       "      <td>0.0</td>\n",
       "      <td>0.0</td>\n",
       "      <td>0.0</td>\n",
       "      <td>1.0</td>\n",
       "      <td>15</td>\n",
       "      <td>26.35</td>\n",
       "    </tr>\n",
       "    <tr>\n",
       "      <th>261</th>\n",
       "      <td>0.0</td>\n",
       "      <td>0.0</td>\n",
       "      <td>1.0</td>\n",
       "      <td>0.0</td>\n",
       "      <td>1.0</td>\n",
       "      <td>0.0</td>\n",
       "      <td>0.0</td>\n",
       "      <td>0.0</td>\n",
       "      <td>0.0</td>\n",
       "      <td>0.0</td>\n",
       "      <td>31</td>\n",
       "      <td>89.45</td>\n",
       "    </tr>\n",
       "    <tr>\n",
       "      <th>107</th>\n",
       "      <td>0.0</td>\n",
       "      <td>0.0</td>\n",
       "      <td>0.0</td>\n",
       "      <td>0.0</td>\n",
       "      <td>1.0</td>\n",
       "      <td>0.0</td>\n",
       "      <td>0.0</td>\n",
       "      <td>0.0</td>\n",
       "      <td>0.0</td>\n",
       "      <td>1.0</td>\n",
       "      <td>36</td>\n",
       "      <td>84.10</td>\n",
       "    </tr>\n",
       "  </tbody>\n",
       "</table>\n",
       "</div>"
      ],
      "text/plain": [
       "      Dependents_Yes  OnlineSecurity_No internet service  OnlineSecurity_Yes  \\\n",
       "3738             0.0                                 0.0                 1.0   \n",
       "3311             1.0                                 0.0                 1.0   \n",
       "2379             0.0                                 1.0                 0.0   \n",
       "261              0.0                                 0.0                 1.0   \n",
       "107              0.0                                 0.0                 0.0   \n",
       "\n",
       "      OnlineBackup_Yes  InternetService_Fiber optic  InternetService_No  \\\n",
       "3738               1.0                          0.0                 0.0   \n",
       "3311               1.0                          0.0                 0.0   \n",
       "2379               0.0                          0.0                 1.0   \n",
       "261                0.0                          1.0                 0.0   \n",
       "107                0.0                          1.0                 0.0   \n",
       "\n",
       "      TechSupport_Yes  Contract_One year  Contract_Two year  \\\n",
       "3738              1.0                0.0                1.0   \n",
       "3311              1.0                0.0                1.0   \n",
       "2379              0.0                0.0                0.0   \n",
       "261               0.0                0.0                0.0   \n",
       "107               0.0                0.0                0.0   \n",
       "\n",
       "      PaperlessBilling_Yes  tenure  MonthlyCharges  \n",
       "3738                   1.0      67           50.95  \n",
       "3311                   0.0      71           85.45  \n",
       "2379                   1.0      15           26.35  \n",
       "261                    0.0      31           89.45  \n",
       "107                    1.0      36           84.10  "
      ]
     },
     "metadata": {},
     "output_type": "display_data"
    },
    {
     "data": {
      "text/html": [
       "<div>\n",
       "<style scoped>\n",
       "    .dataframe tbody tr th:only-of-type {\n",
       "        vertical-align: middle;\n",
       "    }\n",
       "\n",
       "    .dataframe tbody tr th {\n",
       "        vertical-align: top;\n",
       "    }\n",
       "\n",
       "    .dataframe thead th {\n",
       "        text-align: right;\n",
       "    }\n",
       "</style>\n",
       "<table border=\"1\" class=\"dataframe\">\n",
       "  <thead>\n",
       "    <tr style=\"text-align: right;\">\n",
       "      <th></th>\n",
       "      <th>Dependents_Yes</th>\n",
       "      <th>OnlineSecurity_No internet service</th>\n",
       "      <th>OnlineSecurity_Yes</th>\n",
       "      <th>OnlineBackup_Yes</th>\n",
       "      <th>InternetService_Fiber optic</th>\n",
       "      <th>InternetService_No</th>\n",
       "      <th>TechSupport_Yes</th>\n",
       "      <th>Contract_One year</th>\n",
       "      <th>Contract_Two year</th>\n",
       "      <th>PaperlessBilling_Yes</th>\n",
       "      <th>tenure</th>\n",
       "      <th>MonthlyCharges</th>\n",
       "    </tr>\n",
       "  </thead>\n",
       "  <tbody>\n",
       "    <tr>\n",
       "      <th>4265</th>\n",
       "      <td>0.0</td>\n",
       "      <td>0.0</td>\n",
       "      <td>0.0</td>\n",
       "      <td>1.0</td>\n",
       "      <td>1.0</td>\n",
       "      <td>0.0</td>\n",
       "      <td>0.0</td>\n",
       "      <td>0.0</td>\n",
       "      <td>0.0</td>\n",
       "      <td>1.0</td>\n",
       "      <td>15</td>\n",
       "      <td>83.20</td>\n",
       "    </tr>\n",
       "    <tr>\n",
       "      <th>159</th>\n",
       "      <td>0.0</td>\n",
       "      <td>0.0</td>\n",
       "      <td>0.0</td>\n",
       "      <td>0.0</td>\n",
       "      <td>1.0</td>\n",
       "      <td>0.0</td>\n",
       "      <td>0.0</td>\n",
       "      <td>0.0</td>\n",
       "      <td>0.0</td>\n",
       "      <td>0.0</td>\n",
       "      <td>18</td>\n",
       "      <td>78.55</td>\n",
       "    </tr>\n",
       "    <tr>\n",
       "      <th>281</th>\n",
       "      <td>0.0</td>\n",
       "      <td>0.0</td>\n",
       "      <td>0.0</td>\n",
       "      <td>0.0</td>\n",
       "      <td>1.0</td>\n",
       "      <td>0.0</td>\n",
       "      <td>0.0</td>\n",
       "      <td>0.0</td>\n",
       "      <td>1.0</td>\n",
       "      <td>1.0</td>\n",
       "      <td>72</td>\n",
       "      <td>97.85</td>\n",
       "    </tr>\n",
       "    <tr>\n",
       "      <th>225</th>\n",
       "      <td>1.0</td>\n",
       "      <td>0.0</td>\n",
       "      <td>0.0</td>\n",
       "      <td>0.0</td>\n",
       "      <td>0.0</td>\n",
       "      <td>0.0</td>\n",
       "      <td>0.0</td>\n",
       "      <td>0.0</td>\n",
       "      <td>0.0</td>\n",
       "      <td>1.0</td>\n",
       "      <td>18</td>\n",
       "      <td>45.65</td>\n",
       "    </tr>\n",
       "    <tr>\n",
       "      <th>1345</th>\n",
       "      <td>1.0</td>\n",
       "      <td>0.0</td>\n",
       "      <td>1.0</td>\n",
       "      <td>1.0</td>\n",
       "      <td>1.0</td>\n",
       "      <td>0.0</td>\n",
       "      <td>1.0</td>\n",
       "      <td>0.0</td>\n",
       "      <td>1.0</td>\n",
       "      <td>1.0</td>\n",
       "      <td>72</td>\n",
       "      <td>112.60</td>\n",
       "    </tr>\n",
       "  </tbody>\n",
       "</table>\n",
       "</div>"
      ],
      "text/plain": [
       "      Dependents_Yes  OnlineSecurity_No internet service  OnlineSecurity_Yes  \\\n",
       "4265             0.0                                 0.0                 0.0   \n",
       "159              0.0                                 0.0                 0.0   \n",
       "281              0.0                                 0.0                 0.0   \n",
       "225              1.0                                 0.0                 0.0   \n",
       "1345             1.0                                 0.0                 1.0   \n",
       "\n",
       "      OnlineBackup_Yes  InternetService_Fiber optic  InternetService_No  \\\n",
       "4265               1.0                          1.0                 0.0   \n",
       "159                0.0                          1.0                 0.0   \n",
       "281                0.0                          1.0                 0.0   \n",
       "225                0.0                          0.0                 0.0   \n",
       "1345               1.0                          1.0                 0.0   \n",
       "\n",
       "      TechSupport_Yes  Contract_One year  Contract_Two year  \\\n",
       "4265              0.0                0.0                0.0   \n",
       "159               0.0                0.0                0.0   \n",
       "281               0.0                0.0                1.0   \n",
       "225               0.0                0.0                0.0   \n",
       "1345              1.0                0.0                1.0   \n",
       "\n",
       "      PaperlessBilling_Yes  tenure  MonthlyCharges  \n",
       "4265                   1.0      15           83.20  \n",
       "159                    0.0      18           78.55  \n",
       "281                    1.0      72           97.85  \n",
       "225                    1.0      18           45.65  \n",
       "1345                   1.0      72          112.60  "
      ]
     },
     "metadata": {},
     "output_type": "display_data"
    }
   ],
   "source": [
    "display(x_train.head(), x_test.head())"
   ]
  },
  {
   "cell_type": "markdown",
   "metadata": {},
   "source": [
    "## Balancing"
   ]
  },
  {
   "cell_type": "code",
   "execution_count": 65,
   "metadata": {},
   "outputs": [
    {
     "data": {
      "text/plain": [
       "0    2852\n",
       "1    1030\n",
       "Name: count, dtype: int64"
      ]
     },
     "execution_count": 65,
     "metadata": {},
     "output_type": "execute_result"
    }
   ],
   "source": [
    "pd.Series(y_train).value_counts()"
   ]
  },
  {
   "cell_type": "code",
   "execution_count": 66,
   "metadata": {},
   "outputs": [
    {
     "data": {
      "text/plain": [
       "0    1030\n",
       "1    1030\n",
       "Name: count, dtype: int64"
      ]
     },
     "execution_count": 66,
     "metadata": {},
     "output_type": "execute_result"
    }
   ],
   "source": [
    "rus = RandomUnderSampler(random_state=0) #, categorical_features=list(x_train.columns[:-2])) #.TomekLinks()\n",
    "x_train, y_train = rus.fit_resample(x_train, y_train)\n",
    "pd.Series(y_train).value_counts()"
   ]
  },
  {
   "cell_type": "markdown",
   "metadata": {},
   "source": [
    "## Scaling"
   ]
  },
  {
   "cell_type": "code",
   "execution_count": 67,
   "metadata": {},
   "outputs": [
    {
     "data": {
      "text/html": [
       "<div>\n",
       "<style scoped>\n",
       "    .dataframe tbody tr th:only-of-type {\n",
       "        vertical-align: middle;\n",
       "    }\n",
       "\n",
       "    .dataframe tbody tr th {\n",
       "        vertical-align: top;\n",
       "    }\n",
       "\n",
       "    .dataframe thead th {\n",
       "        text-align: right;\n",
       "    }\n",
       "</style>\n",
       "<table border=\"1\" class=\"dataframe\">\n",
       "  <thead>\n",
       "    <tr style=\"text-align: right;\">\n",
       "      <th></th>\n",
       "      <th>count</th>\n",
       "      <th>mean</th>\n",
       "      <th>std</th>\n",
       "      <th>min</th>\n",
       "      <th>25%</th>\n",
       "      <th>50%</th>\n",
       "      <th>75%</th>\n",
       "      <th>max</th>\n",
       "    </tr>\n",
       "  </thead>\n",
       "  <tbody>\n",
       "    <tr>\n",
       "      <th>0</th>\n",
       "      <td>2060.0</td>\n",
       "      <td>0.260194</td>\n",
       "      <td>0.438847</td>\n",
       "      <td>0.0</td>\n",
       "      <td>0.000000</td>\n",
       "      <td>0.000000</td>\n",
       "      <td>1.000000</td>\n",
       "      <td>1.0</td>\n",
       "    </tr>\n",
       "    <tr>\n",
       "      <th>1</th>\n",
       "      <td>2060.0</td>\n",
       "      <td>0.155340</td>\n",
       "      <td>0.362316</td>\n",
       "      <td>0.0</td>\n",
       "      <td>0.000000</td>\n",
       "      <td>0.000000</td>\n",
       "      <td>0.000000</td>\n",
       "      <td>1.0</td>\n",
       "    </tr>\n",
       "    <tr>\n",
       "      <th>2</th>\n",
       "      <td>2060.0</td>\n",
       "      <td>0.248058</td>\n",
       "      <td>0.431991</td>\n",
       "      <td>0.0</td>\n",
       "      <td>0.000000</td>\n",
       "      <td>0.000000</td>\n",
       "      <td>0.000000</td>\n",
       "      <td>1.0</td>\n",
       "    </tr>\n",
       "    <tr>\n",
       "      <th>3</th>\n",
       "      <td>2060.0</td>\n",
       "      <td>0.328641</td>\n",
       "      <td>0.469833</td>\n",
       "      <td>0.0</td>\n",
       "      <td>0.000000</td>\n",
       "      <td>0.000000</td>\n",
       "      <td>1.000000</td>\n",
       "      <td>1.0</td>\n",
       "    </tr>\n",
       "    <tr>\n",
       "      <th>4</th>\n",
       "      <td>2060.0</td>\n",
       "      <td>0.533981</td>\n",
       "      <td>0.498965</td>\n",
       "      <td>0.0</td>\n",
       "      <td>0.000000</td>\n",
       "      <td>1.000000</td>\n",
       "      <td>1.000000</td>\n",
       "      <td>1.0</td>\n",
       "    </tr>\n",
       "    <tr>\n",
       "      <th>5</th>\n",
       "      <td>2060.0</td>\n",
       "      <td>0.155340</td>\n",
       "      <td>0.362316</td>\n",
       "      <td>0.0</td>\n",
       "      <td>0.000000</td>\n",
       "      <td>0.000000</td>\n",
       "      <td>0.000000</td>\n",
       "      <td>1.0</td>\n",
       "    </tr>\n",
       "    <tr>\n",
       "      <th>6</th>\n",
       "      <td>2060.0</td>\n",
       "      <td>0.245631</td>\n",
       "      <td>0.430565</td>\n",
       "      <td>0.0</td>\n",
       "      <td>0.000000</td>\n",
       "      <td>0.000000</td>\n",
       "      <td>0.000000</td>\n",
       "      <td>1.0</td>\n",
       "    </tr>\n",
       "    <tr>\n",
       "      <th>7</th>\n",
       "      <td>2060.0</td>\n",
       "      <td>0.169417</td>\n",
       "      <td>0.375211</td>\n",
       "      <td>0.0</td>\n",
       "      <td>0.000000</td>\n",
       "      <td>0.000000</td>\n",
       "      <td>0.000000</td>\n",
       "      <td>1.0</td>\n",
       "    </tr>\n",
       "    <tr>\n",
       "      <th>8</th>\n",
       "      <td>2060.0</td>\n",
       "      <td>0.171845</td>\n",
       "      <td>0.377337</td>\n",
       "      <td>0.0</td>\n",
       "      <td>0.000000</td>\n",
       "      <td>0.000000</td>\n",
       "      <td>0.000000</td>\n",
       "      <td>1.0</td>\n",
       "    </tr>\n",
       "    <tr>\n",
       "      <th>9</th>\n",
       "      <td>2060.0</td>\n",
       "      <td>0.657282</td>\n",
       "      <td>0.474734</td>\n",
       "      <td>0.0</td>\n",
       "      <td>0.000000</td>\n",
       "      <td>1.000000</td>\n",
       "      <td>1.000000</td>\n",
       "      <td>1.0</td>\n",
       "    </tr>\n",
       "    <tr>\n",
       "      <th>10</th>\n",
       "      <td>2060.0</td>\n",
       "      <td>0.381382</td>\n",
       "      <td>0.336686</td>\n",
       "      <td>0.0</td>\n",
       "      <td>0.070423</td>\n",
       "      <td>0.295775</td>\n",
       "      <td>0.690141</td>\n",
       "      <td>1.0</td>\n",
       "    </tr>\n",
       "    <tr>\n",
       "      <th>11</th>\n",
       "      <td>2060.0</td>\n",
       "      <td>0.498122</td>\n",
       "      <td>0.286874</td>\n",
       "      <td>0.0</td>\n",
       "      <td>0.273297</td>\n",
       "      <td>0.562124</td>\n",
       "      <td>0.728582</td>\n",
       "      <td>1.0</td>\n",
       "    </tr>\n",
       "  </tbody>\n",
       "</table>\n",
       "</div>"
      ],
      "text/plain": [
       "     count      mean       std  min       25%       50%       75%  max\n",
       "0   2060.0  0.260194  0.438847  0.0  0.000000  0.000000  1.000000  1.0\n",
       "1   2060.0  0.155340  0.362316  0.0  0.000000  0.000000  0.000000  1.0\n",
       "2   2060.0  0.248058  0.431991  0.0  0.000000  0.000000  0.000000  1.0\n",
       "3   2060.0  0.328641  0.469833  0.0  0.000000  0.000000  1.000000  1.0\n",
       "4   2060.0  0.533981  0.498965  0.0  0.000000  1.000000  1.000000  1.0\n",
       "5   2060.0  0.155340  0.362316  0.0  0.000000  0.000000  0.000000  1.0\n",
       "6   2060.0  0.245631  0.430565  0.0  0.000000  0.000000  0.000000  1.0\n",
       "7   2060.0  0.169417  0.375211  0.0  0.000000  0.000000  0.000000  1.0\n",
       "8   2060.0  0.171845  0.377337  0.0  0.000000  0.000000  0.000000  1.0\n",
       "9   2060.0  0.657282  0.474734  0.0  0.000000  1.000000  1.000000  1.0\n",
       "10  2060.0  0.381382  0.336686  0.0  0.070423  0.295775  0.690141  1.0\n",
       "11  2060.0  0.498122  0.286874  0.0  0.273297  0.562124  0.728582  1.0"
      ]
     },
     "execution_count": 67,
     "metadata": {},
     "output_type": "execute_result"
    }
   ],
   "source": [
    "scaler = MinMaxScaler()\n",
    "x_train = pd.DataFrame(scaler.fit_transform(x_train))\n",
    "x_test = pd.DataFrame(scaler.transform(x_test))\n",
    "# x_train.columns = column_names\n",
    "# x_test.columns = column_names\n",
    "x_train.describe().T"
   ]
  },
  {
   "cell_type": "markdown",
   "metadata": {},
   "source": [
    "# Modeling"
   ]
  },
  {
   "cell_type": "markdown",
   "metadata": {},
   "source": [
    "### Algorithm selection"
   ]
  },
  {
   "cell_type": "code",
   "execution_count": 68,
   "metadata": {},
   "outputs": [],
   "source": [
    "metric = 'F2-score'\n",
    "beta = 2\n",
    "scorer = make_scorer(fbeta_score, beta=beta)\n",
    "\n",
    "y_test_decoded = target_encoder.inverse_transform(y_test)"
   ]
  },
  {
   "cell_type": "code",
   "execution_count": 69,
   "metadata": {},
   "outputs": [],
   "source": [
    "def evaluate_model(y_true, y_pred):\n",
    "    print(f'F2-score: {round(fbeta_score(y_true, y_pred, beta=beta, pos_label=\"Yes\"), 2)}\\n')\n",
    "    print(classification_report(y_true, y_pred))\n",
    "\n",
    "    labels = ['No', 'Yes']\n",
    "    cnf_matrix = confusion_matrix(y_true, y_pred, labels=labels)\n",
    "    cnf_matrix_df = pd.DataFrame(cnf_matrix, labels, labels)\n",
    "    plt.figure(figsize=(3,1))\n",
    "    sns.heatmap(cnf_matrix_df, annot=True, annot_kws={'size': 7}, fmt='d', cmap='YlGnBu')\n",
    "    plt.ylabel('True label', fontsize=7)\n",
    "    plt.xlabel('Predicted label', fontsize=7)\n",
    "    plt.show()"
   ]
  },
  {
   "cell_type": "code",
   "execution_count": 70,
   "metadata": {},
   "outputs": [],
   "source": [
    "logreg = LogisticRegression(random_state=0)\n",
    "sgd = SGDClassifier(random_state=0)\n",
    "knn = KNeighborsClassifier()\n",
    "dtree = DecisionTreeClassifier(random_state=0)\n",
    "gauss = GaussianProcessClassifier(random_state=0)\n",
    "\n",
    "svc = SVC(random_state=0)\n",
    "svc_nu = NuSVC(random_state=0)\n",
    "svc_lin = LinearSVC(random_state=0)\n",
    "\n",
    "nb_gaus = GaussianNB()\n",
    "nb_multi = MultinomialNB()\n",
    "nb_com = ComplementNB()\n",
    "nb_ber = BernoulliNB()\n",
    "\n",
    "boost_g = GradientBoostingClassifier(random_state=0)\n",
    "boost_hg = HistGradientBoostingClassifier(random_state=0)\n",
    "boost_xg = XGBClassifier()\n",
    "boost_ada = AdaBoostClassifier(random_state=0)\n",
    "\n",
    "boost_ada_nb = AdaBoostClassifier(random_state=0, estimator=nb_gaus, algorithm='SAMME')\n",
    "boost_ada_svc = AdaBoostClassifier(random_state=0, estimator=svc_lin, algorithm='SAMME')\n",
    "boost_ada_sgd = AdaBoostClassifier(random_state=0, estimator=sgd, algorithm='SAMME')\n",
    "boost_ada_logreg = AdaBoostClassifier(random_state=0, estimator=logreg)\n",
    "\n",
    "rforest = RandomForestClassifier(random_state=0)\n",
    "xtree = ExtraTreesClassifier(random_state=0)\n",
    "neural = MLPClassifier(random_state=0)\n",
    "\n",
    "hard_voting = VotingClassifier([('logreg', logreg),('dtree', dtree),('knn', knn),('nb_gaus', nb_gaus)], voting='hard')\n",
    "soft_voting = VotingClassifier([('logreg', logreg),('dtree', dtree),('knn', knn),('nb_gaus', nb_gaus)], voting='soft')\n",
    "stacking =  StackingClassifier([('logreg', logreg),('dtree', dtree),('knn', knn),('nb_gaus', nb_gaus)])\n",
    "\n",
    "rus_boost = RUSBoostClassifier(random_state=0)\n",
    "easy_ensemble = EasyEnsembleClassifier(random_state=0)\n",
    "balance_bagging = BalancedBaggingClassifier(random_state=0)\n",
    "balance_rforest = BalancedRandomForestClassifier(random_state=0)\n",
    "\n",
    "models = [\n",
    "    logreg, sgd, knn, dtree, gauss, \n",
    "    svc_lin, # svc, svc_nu, \n",
    "    nb_gaus, # nb_multi, nb_com, nb_ber,\n",
    "    boost_g, boost_hg, boost_xg, boost_ada, \n",
    "    # boost_ada_nb, boost_ada_svc, boost_ada_sgd, boost_ada_logreg,\n",
    "    rforest, xtree, neural, \n",
    "    hard_voting, soft_voting, stacking\n",
    "    # rus_boost, easy_ensemble, balance_bagging, balance_rforest,\n",
    "]\n",
    "\n",
    "def get_var_name(var):\n",
    "    for name, value in globals().items():\n",
    "        if value is var:\n",
    "            return name"
   ]
  },
  {
   "cell_type": "code",
   "execution_count": 71,
   "metadata": {},
   "outputs": [
    {
     "data": {
      "text/html": [
       "<div>\n",
       "<style scoped>\n",
       "    .dataframe tbody tr th:only-of-type {\n",
       "        vertical-align: middle;\n",
       "    }\n",
       "\n",
       "    .dataframe tbody tr th {\n",
       "        vertical-align: top;\n",
       "    }\n",
       "\n",
       "    .dataframe thead th {\n",
       "        text-align: right;\n",
       "    }\n",
       "</style>\n",
       "<table border=\"1\" class=\"dataframe\">\n",
       "  <thead>\n",
       "    <tr style=\"text-align: right;\">\n",
       "      <th></th>\n",
       "      <th>model</th>\n",
       "      <th>train score mean</th>\n",
       "      <th>train score std</th>\n",
       "      <th>test  score</th>\n",
       "      <th>score diff</th>\n",
       "    </tr>\n",
       "  </thead>\n",
       "  <tbody>\n",
       "    <tr>\n",
       "      <th>1</th>\n",
       "      <td>sgd</td>\n",
       "      <td>0.7742</td>\n",
       "      <td>0.0388</td>\n",
       "      <td>0.7632</td>\n",
       "      <td>0.0109</td>\n",
       "    </tr>\n",
       "    <tr>\n",
       "      <th>6</th>\n",
       "      <td>nb_gaus</td>\n",
       "      <td>0.8078</td>\n",
       "      <td>0.0157</td>\n",
       "      <td>0.7532</td>\n",
       "      <td>0.0546</td>\n",
       "    </tr>\n",
       "    <tr>\n",
       "      <th>10</th>\n",
       "      <td>boost_ada</td>\n",
       "      <td>0.7911</td>\n",
       "      <td>0.0125</td>\n",
       "      <td>0.7402</td>\n",
       "      <td>0.0508</td>\n",
       "    </tr>\n",
       "    <tr>\n",
       "      <th>5</th>\n",
       "      <td>svc_lin</td>\n",
       "      <td>0.7865</td>\n",
       "      <td>0.0221</td>\n",
       "      <td>0.7382</td>\n",
       "      <td>0.0484</td>\n",
       "    </tr>\n",
       "    <tr>\n",
       "      <th>0</th>\n",
       "      <td>logreg</td>\n",
       "      <td>0.7845</td>\n",
       "      <td>0.0248</td>\n",
       "      <td>0.7338</td>\n",
       "      <td>0.0507</td>\n",
       "    </tr>\n",
       "    <tr>\n",
       "      <th>15</th>\n",
       "      <td>soft_voting</td>\n",
       "      <td>0.7995</td>\n",
       "      <td>0.0149</td>\n",
       "      <td>0.7213</td>\n",
       "      <td>0.0783</td>\n",
       "    </tr>\n",
       "    <tr>\n",
       "      <th>16</th>\n",
       "      <td>stacking</td>\n",
       "      <td>0.7784</td>\n",
       "      <td>0.0145</td>\n",
       "      <td>0.7163</td>\n",
       "      <td>0.0621</td>\n",
       "    </tr>\n",
       "    <tr>\n",
       "      <th>13</th>\n",
       "      <td>neural</td>\n",
       "      <td>0.7824</td>\n",
       "      <td>0.0204</td>\n",
       "      <td>0.7113</td>\n",
       "      <td>0.0712</td>\n",
       "    </tr>\n",
       "    <tr>\n",
       "      <th>4</th>\n",
       "      <td>gauss</td>\n",
       "      <td>0.7709</td>\n",
       "      <td>0.0184</td>\n",
       "      <td>0.7014</td>\n",
       "      <td>0.0695</td>\n",
       "    </tr>\n",
       "    <tr>\n",
       "      <th>7</th>\n",
       "      <td>boost_g</td>\n",
       "      <td>0.7715</td>\n",
       "      <td>0.0237</td>\n",
       "      <td>0.7011</td>\n",
       "      <td>0.0703</td>\n",
       "    </tr>\n",
       "    <tr>\n",
       "      <th>14</th>\n",
       "      <td>hard_voting</td>\n",
       "      <td>0.7532</td>\n",
       "      <td>0.0154</td>\n",
       "      <td>0.6851</td>\n",
       "      <td>0.0681</td>\n",
       "    </tr>\n",
       "    <tr>\n",
       "      <th>8</th>\n",
       "      <td>boost_hg</td>\n",
       "      <td>0.7558</td>\n",
       "      <td>0.0218</td>\n",
       "      <td>0.6794</td>\n",
       "      <td>0.0764</td>\n",
       "    </tr>\n",
       "    <tr>\n",
       "      <th>9</th>\n",
       "      <td>boost_xg</td>\n",
       "      <td>0.7528</td>\n",
       "      <td>0.0114</td>\n",
       "      <td>0.6595</td>\n",
       "      <td>0.0933</td>\n",
       "    </tr>\n",
       "    <tr>\n",
       "      <th>2</th>\n",
       "      <td>knn</td>\n",
       "      <td>0.7374</td>\n",
       "      <td>0.0256</td>\n",
       "      <td>0.6447</td>\n",
       "      <td>0.0927</td>\n",
       "    </tr>\n",
       "    <tr>\n",
       "      <th>11</th>\n",
       "      <td>rforest</td>\n",
       "      <td>0.7184</td>\n",
       "      <td>0.0193</td>\n",
       "      <td>0.6440</td>\n",
       "      <td>0.0744</td>\n",
       "    </tr>\n",
       "    <tr>\n",
       "      <th>12</th>\n",
       "      <td>xtree</td>\n",
       "      <td>0.7110</td>\n",
       "      <td>0.0116</td>\n",
       "      <td>0.5997</td>\n",
       "      <td>0.1113</td>\n",
       "    </tr>\n",
       "    <tr>\n",
       "      <th>3</th>\n",
       "      <td>dtree</td>\n",
       "      <td>0.6877</td>\n",
       "      <td>0.0273</td>\n",
       "      <td>0.5544</td>\n",
       "      <td>0.1334</td>\n",
       "    </tr>\n",
       "  </tbody>\n",
       "</table>\n",
       "</div>"
      ],
      "text/plain": [
       "          model  train score mean  train score std  test  score  score diff\n",
       "1           sgd            0.7742           0.0388       0.7632      0.0109\n",
       "6       nb_gaus            0.8078           0.0157       0.7532      0.0546\n",
       "10    boost_ada            0.7911           0.0125       0.7402      0.0508\n",
       "5       svc_lin            0.7865           0.0221       0.7382      0.0484\n",
       "0        logreg            0.7845           0.0248       0.7338      0.0507\n",
       "15  soft_voting            0.7995           0.0149       0.7213      0.0783\n",
       "16     stacking            0.7784           0.0145       0.7163      0.0621\n",
       "13       neural            0.7824           0.0204       0.7113      0.0712\n",
       "4         gauss            0.7709           0.0184       0.7014      0.0695\n",
       "7       boost_g            0.7715           0.0237       0.7011      0.0703\n",
       "14  hard_voting            0.7532           0.0154       0.6851      0.0681\n",
       "8      boost_hg            0.7558           0.0218       0.6794      0.0764\n",
       "9      boost_xg            0.7528           0.0114       0.6595      0.0933\n",
       "2           knn            0.7374           0.0256       0.6447      0.0927\n",
       "11      rforest            0.7184           0.0193       0.6440      0.0744\n",
       "12        xtree            0.7110           0.0116       0.5997      0.1113\n",
       "3         dtree            0.6877           0.0273       0.5544      0.1334"
      ]
     },
     "execution_count": 71,
     "metadata": {},
     "output_type": "execute_result"
    }
   ],
   "source": [
    "df_algo = pd.DataFrame(\n",
    "    {\n",
    "        'model': [],\n",
    "        'train score mean': [],\n",
    "        'train score std': [],\n",
    "        'test  score': [],\n",
    "        'score diff': []\n",
    "    }\n",
    ")\n",
    "def add_df_algo(model, train_score_mean, train_score_std, test_score):\n",
    "    diff = abs(train_score_mean - test_score)\n",
    "    df_algo.loc[len(df_algo)] = [model, round(train_score_mean,4), round(train_score_std,4), round(test_score,4), round(diff,4)]\n",
    "  \n",
    "for model in models:\n",
    "    skfold = StratifiedKFold(n_splits=5)\n",
    "    model_cv = cross_val_score(\n",
    "        estimator = model,\n",
    "        X = x_train,\n",
    "        y = y_train,\n",
    "        cv = skfold,\n",
    "        scoring = scorer,\n",
    "        error_score = 'raise'\n",
    "    )\n",
    "    \n",
    "    model.fit(x_train, y_train)\n",
    "    y_test_pred = model.predict(x_test)\n",
    "    test_score = fbeta_score(y_test, y_test_pred, beta=beta)\n",
    "    add_df_algo(get_var_name(model), model_cv.mean(), model_cv.std(), test_score)\n",
    "\n",
    "df_algo.sort_values(by='test  score', ascending=False)"
   ]
  },
  {
   "cell_type": "markdown",
   "metadata": {},
   "source": [
    "The top 3 models which are: \n",
    "1. Stochastic gradient descent (sgd)\n",
    "2. Gaussian naive bayes (nb_gaus)\n",
    "3. Ada Boost (boost_ada)\n",
    "\n",
    "These models will be tuned to achieve their top performance."
   ]
  },
  {
   "cell_type": "markdown",
   "metadata": {},
   "source": [
    "### Hyperparameter tuning"
   ]
  },
  {
   "cell_type": "code",
   "execution_count": 72,
   "metadata": {},
   "outputs": [],
   "source": [
    "# Stochastic gradient descent (SGD)\n",
    "sgd_param_grid = {\n",
    "    'loss': ['hinge', 'log_loss', 'modified_huber', 'squared_hinge', \n",
    "             'perceptron', 'squared_error', 'huber', 'epsilon_insensitive', \n",
    "             'squared_epsilon_insensitive'],\n",
    "    'penalty': ['l2','l1','elasticnet',None],\n",
    "    'alpha': [10**i for i in range(0,-7,-1)],\n",
    "    'fit_intercept': [True, False],\n",
    "    'learning_rate': ['constant', 'optimal', 'invscaling', 'adaptive'],\n",
    "    # 'class_weight': [None, 'balanced', {0:50,1:1}, {0:5,1:1}, {0:1,1:1}, {0:1,1:5}, {0:1,1:50}]\n",
    "}\n",
    "sgd = SGDClassifier(random_state=0)\n",
    "sgd_tuning = GridSearchCV(\n",
    "    estimator=sgd,\n",
    "    param_grid=sgd_param_grid,\n",
    "    cv=5,\n",
    "    scoring=scorer,\n",
    "    n_jobs=-1\n",
    ")\n",
    "# sgd_tuning.fit(x_train, y_train)\n",
    "\n",
    "# print(f'Best score: {round(sgd_tuning.best_score_, 4)}')\n",
    "# print(f'Best param: {sgd_tuning.best_params_}')"
   ]
  },
  {
   "cell_type": "markdown",
   "metadata": {},
   "source": [
    "After tuning, the training f2-score got better. From 0.7742 to 0.8369."
   ]
  },
  {
   "cell_type": "code",
   "execution_count": 73,
   "metadata": {},
   "outputs": [],
   "source": [
    "sgd.fit(x_train, y_train)\n",
    "y_pred = sgd.predict(x_test)\n",
    "y_pred = target_encoder.inverse_transform(y_pred)\n",
    "\n",
    "best_sgd = SGDClassifier(alpha=0.0001, fit_intercept=True, learning_rate='optimal', loss='epsilon_insensitive', penalty='l2')\n",
    "best_sgd.fit(x_train, y_train)\n",
    "y_pred_tune = best_sgd.predict(x_test)\n",
    "y_pred_tune = target_encoder.inverse_transform(y_pred_tune)"
   ]
  },
  {
   "cell_type": "code",
   "execution_count": 74,
   "metadata": {},
   "outputs": [
    {
     "name": "stdout",
     "output_type": "stream",
     "text": [
      "Score before tuning: 0.763\n",
      "Score after tuning: 0.759\n"
     ]
    },
    {
     "data": {
      "image/png": "[encoded data removed]",
      "text/plain": [
       "<Figure size 2000x500 with 4 Axes>"
      ]
     },
     "metadata": {},
     "output_type": "display_data"
    }
   ],
   "source": [
    "print(f'Score before tuning: {round(fbeta_score(y_test_decoded, y_pred, beta=beta, pos_label=\"Yes\"), 3)}')\n",
    "print(f'Score after tuning: {round(fbeta_score(y_test_decoded, y_pred_tune, beta=beta, pos_label=\"Yes\"), 3)}')\n",
    "\n",
    "plt.figure(figsize=(20,5))\n",
    "\n",
    "plt.subplot(1,2,1)\n",
    "sns.heatmap(confusion_matrix(y_test_decoded, y_pred), annot=True, fmt='.0f', cmap='OrRd')\n",
    "plt.xlabel('y_pred')\n",
    "plt.ylabel('y_actual')\n",
    "plt.title('SGD Before Tuning')\n",
    "\n",
    "plt.subplot(1,2,2)\n",
    "sns.heatmap(confusion_matrix(y_test_decoded, y_pred_tune), annot=True, fmt='.0f', cmap='OrRd')\n",
    "plt.xlabel('y_pred')\n",
    "plt.ylabel('y_actual')\n",
    "plt.title('SGD After Tuning')\n",
    "\n",
    "plt.show()"
   ]
  },
  {
   "cell_type": "markdown",
   "metadata": {},
   "source": [
    "On the test-set, F2-score after tuning got lower. This means that the model got overfitted after tuning."
   ]
  },
  {
   "cell_type": "code",
   "execution_count": 75,
   "metadata": {},
   "outputs": [],
   "source": [
    "# Gaussian naive bayes\n",
    "nb_gaus_param_grid = {\n",
    "    'var_smoothing': [10**i for i in range(0,-20,-1)]\n",
    "}\n",
    "nb_gaus = GaussianNB()\n",
    "nb_gaus_tuning = GridSearchCV(\n",
    "    estimator=nb_gaus,\n",
    "    param_grid=nb_gaus_param_grid,\n",
    "    cv=5,\n",
    "    scoring=scorer,\n",
    "    n_jobs=-1\n",
    ")\n",
    "# nb_gaus_tuning.fit(x_train, y_train)\n",
    "\n",
    "# print(f'Best score: {nb_gaus_tuning.best_score_}')\n",
    "# print(f'Best param: {nb_gaus_tuning.best_params_}')"
   ]
  },
  {
   "cell_type": "markdown",
   "metadata": {},
   "source": [
    "After tuning, the training f2-score got better. From 0.8078 to 0.8449."
   ]
  },
  {
   "cell_type": "code",
   "execution_count": 76,
   "metadata": {},
   "outputs": [],
   "source": [
    "nb_gaus.fit(x_train, y_train)\n",
    "y_pred = nb_gaus.predict(x_test)\n",
    "y_pred = target_encoder.inverse_transform(y_pred)\n",
    "\n",
    "best_nb_gaus = GaussianNB(var_smoothing=1)\n",
    "best_nb_gaus.fit(x_train, y_train)\n",
    "y_pred_tune = best_nb_gaus.predict(x_test)\n",
    "y_pred_tune = target_encoder.inverse_transform(y_pred_tune)"
   ]
  },
  {
   "cell_type": "code",
   "execution_count": 77,
   "metadata": {},
   "outputs": [
    {
     "name": "stdout",
     "output_type": "stream",
     "text": [
      "Score before tuning: 0.753\n",
      "Score after tuning: 0.741\n"
     ]
    },
    {
     "data": {
      "image/png": "[encoded data removed]",
      "text/plain": [
       "<Figure size 2000x500 with 4 Axes>"
      ]
     },
     "metadata": {},
     "output_type": "display_data"
    }
   ],
   "source": [
    "print(f'Score before tuning: {round(fbeta_score(y_test_decoded, y_pred, beta=beta, pos_label=\"Yes\"), 3)}')\n",
    "print(f'Score after tuning: {round(fbeta_score(y_test_decoded, y_pred_tune, beta=beta, pos_label=\"Yes\"), 3)}')\n",
    "\n",
    "plt.figure(figsize=(20,5))\n",
    "\n",
    "plt.subplot(1,2,1)\n",
    "sns.heatmap(confusion_matrix(y_test_decoded, y_pred), annot=True, fmt='.0f', cmap='OrRd')\n",
    "plt.xlabel('y_pred')\n",
    "plt.ylabel('y_actual')\n",
    "plt.title('NB Gaussian Before Tuning')\n",
    "\n",
    "plt.subplot(1,2,2)\n",
    "sns.heatmap(confusion_matrix(y_test_decoded, y_pred_tune), annot=True, fmt='.0f', cmap='OrRd')\n",
    "plt.xlabel('y_pred')\n",
    "plt.ylabel('y_actual')\n",
    "plt.title('NB Gaussian After Tuning')\n",
    "\n",
    "plt.show()"
   ]
  },
  {
   "cell_type": "markdown",
   "metadata": {},
   "source": [
    "On the test-set, F2-score after tuning got lower. This means that the model got overfitted after tuning as well."
   ]
  },
  {
   "cell_type": "code",
   "execution_count": 78,
   "metadata": {},
   "outputs": [
    {
     "name": "stdout",
     "output_type": "stream",
     "text": [
      "Best score: 0.8651\n",
      "Best param: {'learning_rate': 1e-10, 'n_estimators': 50}\n"
     ]
    }
   ],
   "source": [
    "# Ada Boost (boost_ada)\n",
    "boost_ada_param_grid = {\n",
    "    'n_estimators' : [50, 100, 150, 200, 250],\n",
    "    'learning_rate': [10**i for i in range(-10,1,1)]\n",
    "}\n",
    "boost_ada = AdaBoostClassifier(random_state=0)\n",
    "boost_ada_tuning = GridSearchCV(\n",
    "    estimator=boost_ada,\n",
    "    param_grid=boost_ada_param_grid,\n",
    "    cv=5,\n",
    "    scoring=scorer,\n",
    "    n_jobs=-1\n",
    ")\n",
    "boost_ada_tuning.fit(x_train, y_train)\n",
    "\n",
    "print(f'Best score: {round(boost_ada_tuning.best_score_, 4)}')\n",
    "print(f'Best param: {boost_ada_tuning.best_params_}')"
   ]
  },
  {
   "cell_type": "markdown",
   "metadata": {},
   "source": [
    "After tuning, the training f2-score got better. From 0.7911 to 0.8651   ."
   ]
  },
  {
   "cell_type": "code",
   "execution_count": 79,
   "metadata": {},
   "outputs": [],
   "source": [
    "boost_ada.fit(x_train, y_train)\n",
    "y_pred = boost_ada.predict(x_test)\n",
    "y_pred = target_encoder.inverse_transform(y_pred)\n",
    "\n",
    "best_boost_ada = AdaBoostClassifier(learning_rate=1e-10, n_estimators=50)\n",
    "best_boost_ada.fit(x_train, y_train)\n",
    "y_pred_tune = best_boost_ada.predict(x_test)\n",
    "y_pred_tune = target_encoder.inverse_transform(y_pred_tune)"
   ]
  },
  {
   "cell_type": "code",
   "execution_count": 80,
   "metadata": {},
   "outputs": [
    {
     "name": "stdout",
     "output_type": "stream",
     "text": [
      "Score before tuning: 0.74\n",
      "Score after tuning: 0.702\n"
     ]
    },
    {
     "data": {
      "image/png": "[encoded data removed]",
      "text/plain": [
       "<Figure size 2000x500 with 4 Axes>"
      ]
     },
     "metadata": {},
     "output_type": "display_data"
    }
   ],
   "source": [
    "print(f'Score before tuning: {round(fbeta_score(y_test_decoded, y_pred, beta=beta, pos_label=\"Yes\"), 3)}')\n",
    "print(f'Score after tuning: {round(fbeta_score(y_test_decoded, y_pred_tune, beta=beta, pos_label=\"Yes\"), 3)}')\n",
    "\n",
    "plt.figure(figsize=(20,5))\n",
    "\n",
    "plt.subplot(1,2,1)\n",
    "sns.heatmap(confusion_matrix(y_test_decoded, y_pred), annot=True, fmt='.0f', cmap='OrRd')\n",
    "plt.xlabel('y_pred')\n",
    "plt.ylabel('y_actual')\n",
    "plt.title('Ada Boost Before Tuning')\n",
    "\n",
    "plt.subplot(1,2,2)\n",
    "sns.heatmap(confusion_matrix(y_test_decoded, y_pred_tune), annot=True, fmt='.0f', cmap='OrRd')\n",
    "plt.xlabel('y_pred')\n",
    "plt.ylabel('y_actual')\n",
    "plt.title('Ada Boost After Tuning')\n",
    "\n",
    "plt.show()"
   ]
  },
  {
   "cell_type": "markdown",
   "metadata": {},
   "source": [
    "On the test-set, F2-score after tuning got lower. This means that the model got overfitted after tuning as well."
   ]
  },
  {
   "cell_type": "markdown",
   "metadata": {},
   "source": [
    "Best model was Stochastic Gradient Descent **(SGD) before tuning** the hyperparameter which got train F2-score of 0.7742 and test F2-score of 0.7632"
   ]
  },
  {
   "cell_type": "markdown",
   "metadata": {},
   "source": [
    "### Feature Importance"
   ]
  },
  {
   "cell_type": "markdown",
   "metadata": {},
   "source": [
    "We will try to improve the model performance of SGD by looking at the feature importance."
   ]
  },
  {
   "cell_type": "code",
   "execution_count": 81,
   "metadata": {},
   "outputs": [
    {
     "data": {
      "image/png": "[encoded data removed]",
      "text/plain": [
       "<Figure size 1000x600 with 1 Axes>"
      ]
     },
     "metadata": {},
     "output_type": "display_data"
    }
   ],
   "source": [
    "# Feature importance\n",
    "df_feature_importance = pd.DataFrame(\n",
    "    {\n",
    "        'feature': column_names,\n",
    "        'coefficients': sgd.coef_[0]\n",
    "    }\n",
    ").sort_values('coefficients', ascending=False)\n",
    "\n",
    "# df_feature_importance\n",
    "plt.figure(figsize=(10,6))\n",
    "sns.set_theme(style='whitegrid')\n",
    "sns.barplot(data=df_feature_importance, x='coefficients', y='feature',\n",
    "            orient='h') #, palette='OrRd')\n",
    "plt.show()"
   ]
  },
  {
   "cell_type": "code",
   "execution_count": 82,
   "metadata": {},
   "outputs": [
    {
     "data": {
      "text/html": [
       "<div>\n",
       "<style scoped>\n",
       "    .dataframe tbody tr th:only-of-type {\n",
       "        vertical-align: middle;\n",
       "    }\n",
       "\n",
       "    .dataframe tbody tr th {\n",
       "        vertical-align: top;\n",
       "    }\n",
       "\n",
       "    .dataframe thead th {\n",
       "        text-align: right;\n",
       "    }\n",
       "</style>\n",
       "<table border=\"1\" class=\"dataframe\">\n",
       "  <thead>\n",
       "    <tr style=\"text-align: right;\">\n",
       "      <th></th>\n",
       "      <th>feature</th>\n",
       "      <th>coefficients</th>\n",
       "    </tr>\n",
       "  </thead>\n",
       "  <tbody>\n",
       "    <tr>\n",
       "      <th>11</th>\n",
       "      <td>MonthlyCharges</td>\n",
       "      <td>1.018362e+00</td>\n",
       "    </tr>\n",
       "    <tr>\n",
       "      <th>0</th>\n",
       "      <td>Dependents_Yes</td>\n",
       "      <td>4.364954e-01</td>\n",
       "    </tr>\n",
       "    <tr>\n",
       "      <th>9</th>\n",
       "      <td>PaperlessBilling_Yes</td>\n",
       "      <td>2.182477e-01</td>\n",
       "    </tr>\n",
       "    <tr>\n",
       "      <th>4</th>\n",
       "      <td>InternetService_Fiber optic</td>\n",
       "      <td>-2.575532e-15</td>\n",
       "    </tr>\n",
       "    <tr>\n",
       "      <th>2</th>\n",
       "      <td>OnlineSecurity_Yes</td>\n",
       "      <td>-2.182477e-01</td>\n",
       "    </tr>\n",
       "    <tr>\n",
       "      <th>6</th>\n",
       "      <td>TechSupport_Yes</td>\n",
       "      <td>-2.182477e-01</td>\n",
       "    </tr>\n",
       "    <tr>\n",
       "      <th>1</th>\n",
       "      <td>OnlineSecurity_No internet service</td>\n",
       "      <td>-4.364954e-01</td>\n",
       "    </tr>\n",
       "    <tr>\n",
       "      <th>5</th>\n",
       "      <td>InternetService_No</td>\n",
       "      <td>-4.364954e-01</td>\n",
       "    </tr>\n",
       "    <tr>\n",
       "      <th>3</th>\n",
       "      <td>OnlineBackup_Yes</td>\n",
       "      <td>-4.364954e-01</td>\n",
       "    </tr>\n",
       "    <tr>\n",
       "      <th>7</th>\n",
       "      <td>Contract_One year</td>\n",
       "      <td>-1.200362e+00</td>\n",
       "    </tr>\n",
       "    <tr>\n",
       "      <th>8</th>\n",
       "      <td>Contract_Two year</td>\n",
       "      <td>-1.418610e+00</td>\n",
       "    </tr>\n",
       "    <tr>\n",
       "      <th>10</th>\n",
       "      <td>tenure</td>\n",
       "      <td>-1.461645e+00</td>\n",
       "    </tr>\n",
       "  </tbody>\n",
       "</table>\n",
       "</div>"
      ],
      "text/plain": [
       "                               feature  coefficients\n",
       "11                      MonthlyCharges  1.018362e+00\n",
       "0                       Dependents_Yes  4.364954e-01\n",
       "9                 PaperlessBilling_Yes  2.182477e-01\n",
       "4          InternetService_Fiber optic -2.575532e-15\n",
       "2                   OnlineSecurity_Yes -2.182477e-01\n",
       "6                      TechSupport_Yes -2.182477e-01\n",
       "1   OnlineSecurity_No internet service -4.364954e-01\n",
       "5                   InternetService_No -4.364954e-01\n",
       "3                     OnlineBackup_Yes -4.364954e-01\n",
       "7                    Contract_One year -1.200362e+00\n",
       "8                    Contract_Two year -1.418610e+00\n",
       "10                              tenure -1.461645e+00"
      ]
     },
     "execution_count": 82,
     "metadata": {},
     "output_type": "execute_result"
    }
   ],
   "source": [
    "df_feature_importance"
   ]
  },
  {
   "cell_type": "markdown",
   "metadata": {},
   "source": [
    "We will try to improve this model by removing less importance features"
   ]
  },
  {
   "cell_type": "code",
   "execution_count": 83,
   "metadata": {},
   "outputs": [
    {
     "name": "stdout",
     "output_type": "stream",
     "text": [
      "\n",
      "Before removing low coef features\n",
      "valid score: 0.7742\n",
      "test  score: 0.7632      \n",
      "\n",
      "After removing low coef features\n",
      "valid score: 0.8008\n",
      "test  score: 0.7531\n",
      "\n"
     ]
    }
   ],
   "source": [
    "all = [i for i in range(16)]\n",
    "selected_features = list(df_feature_importance.index)\n",
    "\n",
    "# Remove less importance features\n",
    "for i in [9,4,2,6]:\n",
    "    selected_features.remove(i)\n",
    "\n",
    "sgd_feat = SGDClassifier(random_state=0)\n",
    "sgd_feat_cv = cross_val_score(\n",
    "                estimator = sgd_feat,\n",
    "                X = x_train[selected_features],\n",
    "                y = y_train,\n",
    "                cv = skfold,\n",
    "                scoring = scorer,\n",
    "                error_score = 'raise'\n",
    "              )\n",
    "sgd_feat.fit(x_train[selected_features], y_train)\n",
    "y_pred_feat = sgd_feat.predict(x_test[selected_features])\n",
    "\n",
    "sgd_cv = cross_val_score(\n",
    "            estimator = sgd,\n",
    "            X = x_train,\n",
    "            y = y_train,\n",
    "            cv = skfold,\n",
    "            scoring = scorer,\n",
    "            error_score = 'raise'\n",
    "          )\n",
    "y_pred = sgd.predict(x_test)\n",
    "\n",
    "print(f\"\"\"\n",
    "Before removing low coef features\n",
    "valid score: {round(sgd_cv.mean(), 4)}\n",
    "test  score: {round(fbeta_score(y_test, y_pred, beta=beta), 4)}      \n",
    "\n",
    "After removing low coef features\n",
    "valid score: {round(sgd_feat_cv.mean(), 4)}\n",
    "test  score: {round(fbeta_score(y_test, y_pred_feat, beta=beta), 4)}\n",
    "\"\"\")"
   ]
  },
  {
   "cell_type": "markdown",
   "metadata": {},
   "source": [
    "Removing features with low coefficient was not improving the test score (overfit). So, we won't remove any features."
   ]
  },
  {
   "cell_type": "markdown",
   "metadata": {},
   "source": [
    "### Adjusting threshold"
   ]
  },
  {
   "cell_type": "code",
   "execution_count": 60,
   "metadata": {},
   "outputs": [],
   "source": [
    "# thresholds = [i/100 for i in range(20,81)]\n",
    "# scores = []\n",
    "# best_score = 0\n",
    "\n",
    "# for threshold in thresholds:\n",
    "#     y_train_pred_prob = sgd.predict_proba(x_train)[:, 1]\n",
    "#     y_train_pred = np.where(y_train_pred_prob>threshold, 1, 0)\n",
    "\n",
    "#     score = fbeta_score(y_train, y_train_pred, beta=beta)\n",
    "#     scores.append(score)\n",
    "\n",
    "#     if score > best_score:\n",
    "#         best_score = round(score, 3)\n",
    "#         best_threshold = threshold\n",
    "\n",
    "# print(f'Best {metric}\\t: {best_score}')\n",
    "# print(f'Best threshold\\t: {best_threshold}')"
   ]
  },
  {
   "cell_type": "markdown",
   "metadata": {},
   "source": [
    "We can't tune the threshold because of 'Hinge' which is used as the loss parameter doesn't provide the probability of prediction."
   ]
  },
  {
   "cell_type": "markdown",
   "metadata": {},
   "source": [
    "### Save final model"
   ]
  },
  {
   "cell_type": "code",
   "execution_count": 61,
   "metadata": {},
   "outputs": [
    {
     "data": {
      "text/html": [
       "<style>#sk-container-id-1 {color: black;background-color: white;}#sk-container-id-1 pre{padding: 0;}#sk-container-id-1 div.sk-toggleable {background-color: white;}#sk-container-id-1 label.sk-toggleable__label {cursor: pointer;display: block;width: 100%;margin-bottom: 0;padding: 0.3em;box-sizing: border-box;text-align: center;}#sk-container-id-1 label.sk-toggleable__label-arrow:before {content: \"▸\";float: left;margin-right: 0.25em;color: #696969;}#sk-container-id-1 label.sk-toggleable__label-arrow:hover:before {color: black;}#sk-container-id-1 div.sk-estimator:hover label.sk-toggleable__label-arrow:before {color: black;}#sk-container-id-1 div.sk-toggleable__content {max-height: 0;max-width: 0;overflow: hidden;text-align: left;background-color: #f0f8ff;}#sk-container-id-1 div.sk-toggleable__content pre {margin: 0.2em;color: black;border-radius: 0.25em;background-color: #f0f8ff;}#sk-container-id-1 input.sk-toggleable__control:checked~div.sk-toggleable__content {max-height: 200px;max-width: 100%;overflow: auto;}#sk-container-id-1 input.sk-toggleable__control:checked~label.sk-toggleable__label-arrow:before {content: \"▾\";}#sk-container-id-1 div.sk-estimator input.sk-toggleable__control:checked~label.sk-toggleable__label {background-color: #d4ebff;}#sk-container-id-1 div.sk-label input.sk-toggleable__control:checked~label.sk-toggleable__label {background-color: #d4ebff;}#sk-container-id-1 input.sk-hidden--visually {border: 0;clip: rect(1px 1px 1px 1px);clip: rect(1px, 1px, 1px, 1px);height: 1px;margin: -1px;overflow: hidden;padding: 0;position: absolute;width: 1px;}#sk-container-id-1 div.sk-estimator {font-family: monospace;background-color: #f0f8ff;border: 1px dotted black;border-radius: 0.25em;box-sizing: border-box;margin-bottom: 0.5em;}#sk-container-id-1 div.sk-estimator:hover {background-color: #d4ebff;}#sk-container-id-1 div.sk-parallel-item::after {content: \"\";width: 100%;border-bottom: 1px solid gray;flex-grow: 1;}#sk-container-id-1 div.sk-label:hover label.sk-toggleable__label {background-color: #d4ebff;}#sk-container-id-1 div.sk-serial::before {content: \"\";position: absolute;border-left: 1px solid gray;box-sizing: border-box;top: 0;bottom: 0;left: 50%;z-index: 0;}#sk-container-id-1 div.sk-serial {display: flex;flex-direction: column;align-items: center;background-color: white;padding-right: 0.2em;padding-left: 0.2em;position: relative;}#sk-container-id-1 div.sk-item {position: relative;z-index: 1;}#sk-container-id-1 div.sk-parallel {display: flex;align-items: stretch;justify-content: center;background-color: white;position: relative;}#sk-container-id-1 div.sk-item::before, #sk-container-id-1 div.sk-parallel-item::before {content: \"\";position: absolute;border-left: 1px solid gray;box-sizing: border-box;top: 0;bottom: 0;left: 50%;z-index: -1;}#sk-container-id-1 div.sk-parallel-item {display: flex;flex-direction: column;z-index: 1;position: relative;background-color: white;}#sk-container-id-1 div.sk-parallel-item:first-child::after {align-self: flex-end;width: 50%;}#sk-container-id-1 div.sk-parallel-item:last-child::after {align-self: flex-start;width: 50%;}#sk-container-id-1 div.sk-parallel-item:only-child::after {width: 0;}#sk-container-id-1 div.sk-dashed-wrapped {border: 1px dashed gray;margin: 0 0.4em 0.5em 0.4em;box-sizing: border-box;padding-bottom: 0.4em;background-color: white;}#sk-container-id-1 div.sk-label label {font-family: monospace;font-weight: bold;display: inline-block;line-height: 1.2em;}#sk-container-id-1 div.sk-label-container {text-align: center;}#sk-container-id-1 div.sk-container {/* jupyter's `normalize.less` sets `[hidden] { display: none; }` but bootstrap.min.css set `[hidden] { display: none !important; }` so we also need the `!important` here to be able to override the default hidden behavior on the sphinx rendered scikit-learn.org. See: https://github.com/scikit-learn/scikit-learn/issues/21755 */display: inline-block !important;position: relative;}#sk-container-id-1 div.sk-text-repr-fallback {display: none;}</style><div id=\"sk-container-id-1\" class=\"sk-top-container\"><div class=\"sk-text-repr-fallback\"><pre>Pipeline(steps=[(&#x27;encoder&#x27;,\n",
       "                 ColumnTransformer(remainder=&#x27;passthrough&#x27;,\n",
       "                                   transformers=[(&#x27;one-hot&#x27;,\n",
       "                                                  OneHotEncoder(drop=&#x27;first&#x27;,\n",
       "                                                                sparse_output=False),\n",
       "                                                  [&#x27;Dependents&#x27;,\n",
       "                                                   &#x27;OnlineSecurity&#x27;,\n",
       "                                                   &#x27;OnlineBackup&#x27;,\n",
       "                                                   &#x27;InternetService&#x27;,\n",
       "                                                   &#x27;DeviceProtection&#x27;,\n",
       "                                                   &#x27;TechSupport&#x27;, &#x27;Contract&#x27;,\n",
       "                                                   &#x27;PaperlessBilling&#x27;])])),\n",
       "                (&#x27;feature selection&#x27;,\n",
       "                 &lt;__main__.DropColumns object at 0x0000026F5048E3D0&gt;),\n",
       "                (&#x27;resample&#x27;, RandomUnderSampler(random_state=0)),\n",
       "                (&#x27;scaler&#x27;, MinMaxScaler()),\n",
       "                (&#x27;model&#x27;, SGDClassifier(random_state=0))])</pre><b>In a Jupyter environment, please rerun this cell to show the HTML representation or trust the notebook. <br />On GitHub, the HTML representation is unable to render, please try loading this page with nbviewer.org.</b></div><div class=\"sk-container\" hidden><div class=\"sk-item sk-dashed-wrapped\"><div class=\"sk-label-container\"><div class=\"sk-label sk-toggleable\"><input class=\"sk-toggleable__control sk-hidden--visually\" id=\"sk-estimator-id-1\" type=\"checkbox\" ><label for=\"sk-estimator-id-1\" class=\"sk-toggleable__label sk-toggleable__label-arrow\">Pipeline</label><div class=\"sk-toggleable__content\"><pre>Pipeline(steps=[(&#x27;encoder&#x27;,\n",
       "                 ColumnTransformer(remainder=&#x27;passthrough&#x27;,\n",
       "                                   transformers=[(&#x27;one-hot&#x27;,\n",
       "                                                  OneHotEncoder(drop=&#x27;first&#x27;,\n",
       "                                                                sparse_output=False),\n",
       "                                                  [&#x27;Dependents&#x27;,\n",
       "                                                   &#x27;OnlineSecurity&#x27;,\n",
       "                                                   &#x27;OnlineBackup&#x27;,\n",
       "                                                   &#x27;InternetService&#x27;,\n",
       "                                                   &#x27;DeviceProtection&#x27;,\n",
       "                                                   &#x27;TechSupport&#x27;, &#x27;Contract&#x27;,\n",
       "                                                   &#x27;PaperlessBilling&#x27;])])),\n",
       "                (&#x27;feature selection&#x27;,\n",
       "                 &lt;__main__.DropColumns object at 0x0000026F5048E3D0&gt;),\n",
       "                (&#x27;resample&#x27;, RandomUnderSampler(random_state=0)),\n",
       "                (&#x27;scaler&#x27;, MinMaxScaler()),\n",
       "                (&#x27;model&#x27;, SGDClassifier(random_state=0))])</pre></div></div></div><div class=\"sk-serial\"><div class=\"sk-item sk-dashed-wrapped\"><div class=\"sk-label-container\"><div class=\"sk-label sk-toggleable\"><input class=\"sk-toggleable__control sk-hidden--visually\" id=\"sk-estimator-id-2\" type=\"checkbox\" ><label for=\"sk-estimator-id-2\" class=\"sk-toggleable__label sk-toggleable__label-arrow\">encoder: ColumnTransformer</label><div class=\"sk-toggleable__content\"><pre>ColumnTransformer(remainder=&#x27;passthrough&#x27;,\n",
       "                  transformers=[(&#x27;one-hot&#x27;,\n",
       "                                 OneHotEncoder(drop=&#x27;first&#x27;,\n",
       "                                               sparse_output=False),\n",
       "                                 [&#x27;Dependents&#x27;, &#x27;OnlineSecurity&#x27;,\n",
       "                                  &#x27;OnlineBackup&#x27;, &#x27;InternetService&#x27;,\n",
       "                                  &#x27;DeviceProtection&#x27;, &#x27;TechSupport&#x27;, &#x27;Contract&#x27;,\n",
       "                                  &#x27;PaperlessBilling&#x27;])])</pre></div></div></div><div class=\"sk-parallel\"><div class=\"sk-parallel-item\"><div class=\"sk-item\"><div class=\"sk-label-container\"><div class=\"sk-label sk-toggleable\"><input class=\"sk-toggleable__control sk-hidden--visually\" id=\"sk-estimator-id-3\" type=\"checkbox\" ><label for=\"sk-estimator-id-3\" class=\"sk-toggleable__label sk-toggleable__label-arrow\">one-hot</label><div class=\"sk-toggleable__content\"><pre>[&#x27;Dependents&#x27;, &#x27;OnlineSecurity&#x27;, &#x27;OnlineBackup&#x27;, &#x27;InternetService&#x27;, &#x27;DeviceProtection&#x27;, &#x27;TechSupport&#x27;, &#x27;Contract&#x27;, &#x27;PaperlessBilling&#x27;]</pre></div></div></div><div class=\"sk-serial\"><div class=\"sk-item\"><div class=\"sk-estimator sk-toggleable\"><input class=\"sk-toggleable__control sk-hidden--visually\" id=\"sk-estimator-id-4\" type=\"checkbox\" ><label for=\"sk-estimator-id-4\" class=\"sk-toggleable__label sk-toggleable__label-arrow\">OneHotEncoder</label><div class=\"sk-toggleable__content\"><pre>OneHotEncoder(drop=&#x27;first&#x27;, sparse_output=False)</pre></div></div></div></div></div></div><div class=\"sk-parallel-item\"><div class=\"sk-item\"><div class=\"sk-label-container\"><div class=\"sk-label sk-toggleable\"><input class=\"sk-toggleable__control sk-hidden--visually\" id=\"sk-estimator-id-5\" type=\"checkbox\" ><label for=\"sk-estimator-id-5\" class=\"sk-toggleable__label sk-toggleable__label-arrow\">remainder</label><div class=\"sk-toggleable__content\"><pre>[&#x27;tenure&#x27;, &#x27;MonthlyCharges&#x27;]</pre></div></div></div><div class=\"sk-serial\"><div class=\"sk-item\"><div class=\"sk-estimator sk-toggleable\"><input class=\"sk-toggleable__control sk-hidden--visually\" id=\"sk-estimator-id-6\" type=\"checkbox\" ><label for=\"sk-estimator-id-6\" class=\"sk-toggleable__label sk-toggleable__label-arrow\">passthrough</label><div class=\"sk-toggleable__content\"><pre>passthrough</pre></div></div></div></div></div></div></div></div><div class=\"sk-item\"><div class=\"sk-estimator sk-toggleable\"><input class=\"sk-toggleable__control sk-hidden--visually\" id=\"sk-estimator-id-7\" type=\"checkbox\" ><label for=\"sk-estimator-id-7\" class=\"sk-toggleable__label sk-toggleable__label-arrow\">DropColumns</label><div class=\"sk-toggleable__content\"><pre>&lt;__main__.DropColumns object at 0x0000026F5048E3D0&gt;</pre></div></div></div><div class=\"sk-item\"><div class=\"sk-estimator sk-toggleable\"><input class=\"sk-toggleable__control sk-hidden--visually\" id=\"sk-estimator-id-8\" type=\"checkbox\" ><label for=\"sk-estimator-id-8\" class=\"sk-toggleable__label sk-toggleable__label-arrow\">RandomUnderSampler</label><div class=\"sk-toggleable__content\"><pre>RandomUnderSampler(random_state=0)</pre></div></div></div><div class=\"sk-item\"><div class=\"sk-estimator sk-toggleable\"><input class=\"sk-toggleable__control sk-hidden--visually\" id=\"sk-estimator-id-9\" type=\"checkbox\" ><label for=\"sk-estimator-id-9\" class=\"sk-toggleable__label sk-toggleable__label-arrow\">MinMaxScaler</label><div class=\"sk-toggleable__content\"><pre>MinMaxScaler()</pre></div></div></div><div class=\"sk-item\"><div class=\"sk-estimator sk-toggleable\"><input class=\"sk-toggleable__control sk-hidden--visually\" id=\"sk-estimator-id-10\" type=\"checkbox\" ><label for=\"sk-estimator-id-10\" class=\"sk-toggleable__label sk-toggleable__label-arrow\">SGDClassifier</label><div class=\"sk-toggleable__content\"><pre>SGDClassifier(random_state=0)</pre></div></div></div></div></div></div></div>"
      ],
      "text/plain": [
       "Pipeline(steps=[('encoder',\n",
       "                 ColumnTransformer(remainder='passthrough',\n",
       "                                   transformers=[('one-hot',\n",
       "                                                  OneHotEncoder(drop='first',\n",
       "                                                                sparse_output=False),\n",
       "                                                  ['Dependents',\n",
       "                                                   'OnlineSecurity',\n",
       "                                                   'OnlineBackup',\n",
       "                                                   'InternetService',\n",
       "                                                   'DeviceProtection',\n",
       "                                                   'TechSupport', 'Contract',\n",
       "                                                   'PaperlessBilling'])])),\n",
       "                ('feature selection',\n",
       "                 <__main__.DropColumns object at 0x0000026F5048E3D0>),\n",
       "                ('resample', RandomUnderSampler(random_state=0)),\n",
       "                ('scaler', MinMaxScaler()),\n",
       "                ('model', SGDClassifier(random_state=0))])"
      ]
     },
     "execution_count": 61,
     "metadata": {},
     "output_type": "execute_result"
    }
   ],
   "source": [
    "# Creating pipeline\n",
    "\n",
    "x = df.drop(columns=target)\n",
    "y = df[target]\n",
    "# y = target_encoder.transform(y)\n",
    "\n",
    "x_train, x_test, y_train, y_test = train_test_split(\n",
    "    x,\n",
    "    y,\n",
    "    test_size=0.2,\n",
    "    stratify=y,\n",
    "    random_state=0\n",
    ")\n",
    "\n",
    "class DropColumns():\n",
    "    def __init__(self, columns):\n",
    "        self.columns=columns\n",
    "    def transform(self, x, y=None):\n",
    "        return x.drop(self.columns, axis=1)\n",
    "    def fit(self, x, y=None):\n",
    "        return self\n",
    "drop_columns_list = ['one-hot__OnlineBackup_No internet service', 'one-hot__DeviceProtection_No internet service', \n",
    "                     'one-hot__TechSupport_No internet service', 'one-hot__DeviceProtection_Yes']\n",
    "\n",
    "model_final = SGDClassifier(random_state=0)\n",
    "pipeline_model_final = Pipeline(\n",
    "    [\n",
    "        ('encoder', encoder),\n",
    "        ('feature selection', DropColumns(drop_columns_list)),\n",
    "        ('resample', rus),\n",
    "        ('scaler', scaler),\n",
    "        ('model', model_final)\n",
    "    ]\n",
    ")\n",
    "pipeline_model_final.fit(x_train, y_train)"
   ]
  },
  {
   "cell_type": "code",
   "execution_count": 62,
   "metadata": {},
   "outputs": [
    {
     "name": "stdout",
     "output_type": "stream",
     "text": [
      "test  score: 0.7632\n"
     ]
    }
   ],
   "source": [
    "y_test_encoded = target_encoder.transform(y_test)\n",
    "\n",
    "y_pred = pipeline_model_final.predict(x_test)\n",
    "y_pred_encoded = target_encoder.transform(y_pred)\n",
    "\n",
    "print(f\"test  score: {round(fbeta_score(y_test_encoded, y_pred_encoded, beta=beta), 4)}\")"
   ]
  },
  {
   "cell_type": "code",
   "execution_count": 63,
   "metadata": {},
   "outputs": [],
   "source": [
    "# Save the pipeline model final\n",
    "filename = 'models/pipeline_model_final.pkl'\n",
    "pickle.dump(pipeline_model_final, open(filename, 'wb'))"
   ]
  },
  {
   "cell_type": "code",
   "execution_count": 64,
   "metadata": {},
   "outputs": [],
   "source": [
    "# # Export test dataset\n",
    "# x_test.to_csv('data/telco_churn_test.csv', index=None)"
   ]
  },
  {
   "cell_type": "code",
   "execution_count": 65,
   "metadata": {},
   "outputs": [],
   "source": [
    "# # Create requirement file that list all required libraries\n",
    "# !pip freeze > requirements.txt"
   ]
  },
  {
   "cell_type": "markdown",
   "metadata": {},
   "source": [
    "Testing on real-time prediction"
   ]
  },
  {
   "cell_type": "code",
   "execution_count": 66,
   "metadata": {},
   "outputs": [
    {
     "data": {
      "text/html": [
       "<div>\n",
       "<style scoped>\n",
       "    .dataframe tbody tr th:only-of-type {\n",
       "        vertical-align: middle;\n",
       "    }\n",
       "\n",
       "    .dataframe tbody tr th {\n",
       "        vertical-align: top;\n",
       "    }\n",
       "\n",
       "    .dataframe thead th {\n",
       "        text-align: right;\n",
       "    }\n",
       "</style>\n",
       "<table border=\"1\" class=\"dataframe\">\n",
       "  <thead>\n",
       "    <tr style=\"text-align: right;\">\n",
       "      <th></th>\n",
       "      <th>Dependents</th>\n",
       "      <th>tenure</th>\n",
       "      <th>OnlineSecurity</th>\n",
       "      <th>OnlineBackup</th>\n",
       "      <th>InternetService</th>\n",
       "      <th>DeviceProtection</th>\n",
       "      <th>TechSupport</th>\n",
       "      <th>Contract</th>\n",
       "      <th>PaperlessBilling</th>\n",
       "      <th>MonthlyCharges</th>\n",
       "    </tr>\n",
       "  </thead>\n",
       "  <tbody>\n",
       "    <tr>\n",
       "      <th>4265</th>\n",
       "      <td>No</td>\n",
       "      <td>15</td>\n",
       "      <td>No</td>\n",
       "      <td>Yes</td>\n",
       "      <td>Fiber optic</td>\n",
       "      <td>No</td>\n",
       "      <td>No</td>\n",
       "      <td>Month-to-month</td>\n",
       "      <td>Yes</td>\n",
       "      <td>83.20</td>\n",
       "    </tr>\n",
       "    <tr>\n",
       "      <th>159</th>\n",
       "      <td>No</td>\n",
       "      <td>18</td>\n",
       "      <td>No</td>\n",
       "      <td>No</td>\n",
       "      <td>Fiber optic</td>\n",
       "      <td>No</td>\n",
       "      <td>No</td>\n",
       "      <td>Month-to-month</td>\n",
       "      <td>No</td>\n",
       "      <td>78.55</td>\n",
       "    </tr>\n",
       "    <tr>\n",
       "      <th>281</th>\n",
       "      <td>No</td>\n",
       "      <td>72</td>\n",
       "      <td>No</td>\n",
       "      <td>No</td>\n",
       "      <td>Fiber optic</td>\n",
       "      <td>Yes</td>\n",
       "      <td>No</td>\n",
       "      <td>Two year</td>\n",
       "      <td>Yes</td>\n",
       "      <td>97.85</td>\n",
       "    </tr>\n",
       "  </tbody>\n",
       "</table>\n",
       "</div>"
      ],
      "text/plain": [
       "     Dependents  tenure OnlineSecurity OnlineBackup InternetService  \\\n",
       "4265         No      15             No          Yes     Fiber optic   \n",
       "159          No      18             No           No     Fiber optic   \n",
       "281          No      72             No           No     Fiber optic   \n",
       "\n",
       "     DeviceProtection TechSupport        Contract PaperlessBilling  \\\n",
       "4265               No          No  Month-to-month              Yes   \n",
       "159                No          No  Month-to-month               No   \n",
       "281               Yes          No        Two year              Yes   \n",
       "\n",
       "      MonthlyCharges  \n",
       "4265           83.20  \n",
       "159            78.55  \n",
       "281            97.85  "
      ]
     },
     "execution_count": 66,
     "metadata": {},
     "output_type": "execute_result"
    }
   ],
   "source": [
    "x_test.iloc[:3,:]"
   ]
  },
  {
   "cell_type": "code",
   "execution_count": 67,
   "metadata": {},
   "outputs": [
    {
     "data": {
      "text/plain": [
       "['No', 'Yes', 'No', 'No', 'No', 'Yes', 'Yes', 'No', 'No', 'No']"
      ]
     },
     "execution_count": 67,
     "metadata": {},
     "output_type": "execute_result"
    }
   ],
   "source": [
    "list(y_test[:10])"
   ]
  },
  {
   "cell_type": "code",
   "execution_count": 68,
   "metadata": {},
   "outputs": [
    {
     "data": {
      "text/plain": [
       "['Yes', 'Yes', 'No', 'Yes', 'No', 'Yes', 'Yes', 'Yes', 'No', 'No']"
      ]
     },
     "execution_count": 68,
     "metadata": {},
     "output_type": "execute_result"
    }
   ],
   "source": [
    "list(pipeline_model_final.predict(x_test.iloc[:10,:]))"
   ]
  },
  {
   "cell_type": "code",
   "execution_count": 69,
   "metadata": {},
   "outputs": [
    {
     "data": {
      "text/plain": [
       "Churn\n",
       "No     713\n",
       "Yes    258\n",
       "Name: count, dtype: int64"
      ]
     },
     "execution_count": 69,
     "metadata": {},
     "output_type": "execute_result"
    }
   ],
   "source": [
    "y_test.value_counts()"
   ]
  },
  {
   "cell_type": "markdown",
   "metadata": {},
   "source": [
    "# Results"
   ]
  },
  {
   "cell_type": "markdown",
   "metadata": {},
   "source": [
    "We will calculate the cost efficiency by using ML prediction model to detect customer churn using Test data"
   ]
  },
  {
   "cell_type": "code",
   "execution_count": 91,
   "metadata": {},
   "outputs": [
    {
     "name": "stdout",
     "output_type": "stream",
     "text": [
      "Score before tuning: 0.763\n"
     ]
    }
   ],
   "source": [
    "y_pred = sgd.predict(x_test)\n",
    "y_pred = target_encoder.inverse_transform(y_pred)\n",
    "\n",
    "print(f'Score before tuning: {round(fbeta_score(y_test_decoded, y_pred, beta=beta, pos_label=\"Yes\"), 3)}')"
   ]
  },
  {
   "cell_type": "code",
   "execution_count": 92,
   "metadata": {},
   "outputs": [
    {
     "data": {
      "image/png": "[encoded data removed]",
      "text/plain": [
       "<Figure size 2000x500 with 2 Axes>"
      ]
     },
     "metadata": {},
     "output_type": "display_data"
    }
   ],
   "source": [
    "plt.figure(figsize=(20,5))\n",
    "plt.subplot(1,2,1)\n",
    "sns.heatmap(confusion_matrix(y_test_decoded, y_pred), annot=True, fmt='.0f', cmap='OrRd')\n",
    "plt.xlabel('y_pred')\n",
    "plt.ylabel('y_actual')\n",
    "plt.title('SGD Before Tuning')\n",
    "plt.show()"
   ]
  },
  {
   "cell_type": "markdown",
   "metadata": {},
   "source": [
    "Before implementing ML:\n",
    "- Cost_before = Median(MonthlyCharges)/5 * n_customer\n",
    "\n",
    "After implementing ML:\n",
    "- Cost_after = Median(MonthlyCharges)/5 * FP+TP\n",
    "- Loss = Median(MonthlyCharges) * FN\n",
    "\n",
    "We divide it by 5 just by an assumption. Because we don't have the information about cost in the dataset."
   ]
  },
  {
   "cell_type": "code",
   "execution_count": 135,
   "metadata": {},
   "outputs": [
    {
     "name": "stdout",
     "output_type": "stream",
     "text": [
      "Cost before implementing ML: $13711\n"
     ]
    }
   ],
   "source": [
    "cost_before = round(df[\"MonthlyCharges\"].median()/5 * len(y_test))\n",
    "print(f'Cost before implementing ML: ${cost_before}')"
   ]
  },
  {
   "cell_type": "code",
   "execution_count": 131,
   "metadata": {},
   "outputs": [
    {
     "name": "stdout",
     "output_type": "stream",
     "text": [
      "Cost after implementing ML: $6241\n"
     ]
    }
   ],
   "source": [
    "TP = 225\n",
    "FP = 217\n",
    "FN = 33\n",
    "\n",
    "cost = round(df[\"MonthlyCharges\"].median()/5 * (TP+FP))\n",
    "print(f'Cost after implementing ML: ${cost}')"
   ]
  },
  {
   "cell_type": "code",
   "execution_count": 132,
   "metadata": {},
   "outputs": [
    {
     "name": "stdout",
     "output_type": "stream",
     "text": [
      "Revenue loss: $2330\n"
     ]
    }
   ],
   "source": [
    "loss = round(df[\"MonthlyCharges\"].median() * FN)\n",
    "print(f'Revenue loss: ${loss}')"
   ]
  },
  {
   "cell_type": "markdown",
   "metadata": {},
   "source": [
    "After implementing ML, we're efficiently using the cost budget. As it takes lower than half of the cost budget before implementing ML. From $13711 to $6241.\n",
    "\n",
    "With drawback of $2330 revenue loss which considered to be just a small number.\n",
    "\n",
    "Thus, implementing ML model prediction was improving the cost efficiency. "
   ]
  },
  {
   "cell_type": "markdown",
   "metadata": {},
   "source": [
    "## Conclusion"
   ]
  },
  {
   "cell_type": "markdown",
   "metadata": {},
   "source": [
    "1. By implementing the ML prediction model. The company can cut half of their cost. From $13,711 to $6,241. With exchange of $2,330 revenue loss.\n",
    "2. Customers who doesn't take add-on services (online security, online backup, device protection, tech support) are most likely to churn.\n",
    "3. Customers who takes month-to-month contract are most likely to churn.\n",
    "4. Customers whose tenure is low (below 10 month) and monthly charges is high (above 70 month) are most likely to churn.\n",
    "5. Customers whose tenure is low (below 25 month) and monthly charge is low (below 30) are most likely to not churn. And customers whose tenure is high (above 50 month) and monthly charge is high (above 80) are most likely to not churn."
   ]
  },
  {
   "cell_type": "markdown",
   "metadata": {},
   "source": [
    "## Recommendation"
   ]
  },
  {
   "cell_type": "markdown",
   "metadata": {},
   "source": [
    "1. Recommend the add-on services to the customers.\n",
    "2. Try to convince the customers to take on One or Two year contract rather than the month-to-month contract.\n",
    "3. Give a special treatment for new customers (tenure below 1 year). Such as discount or maybe just as simple as good customer services."
   ]
  }
 ],
 "metadata": {
  "kernelspec": {
   "display_name": "Python 3",
   "language": "python",
   "name": "python3"
  },
  "language_info": {
   "codemirror_mode": {
    "name": "ipython",
    "version": 3
   },
   "file_extension": ".py",
   "mimetype": "text/x-python",
   "name": "python",
   "nbconvert_exporter": "python",
   "pygments_lexer": "ipython3",
   "version": "3.11.7"
  }
 },
 "nbformat": 4,
 "nbformat_minor": 2
}
